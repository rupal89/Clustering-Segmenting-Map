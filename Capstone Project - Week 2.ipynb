{
    "cells": [
        {
            "cell_type": "code",
            "execution_count": 5,
            "metadata": {},
            "outputs": [
                {
                    "name": "stdout",
                    "output_type": "stream",
                    "text": "Solving environment: done\n\n## Package Plan ##\n\n  environment location: /opt/conda/envs/Python36\n\n  added / updated specs: \n    - geopy\n\n\nThe following packages will be downloaded:\n\n    package                    |            build\n    ---------------------------|-----------------\n    geographiclib-1.50         |             py_0          34 KB  conda-forge\n    geopy-2.0.0                |     pyh9f0ad1d_0          63 KB  conda-forge\n    ------------------------------------------------------------\n                                           Total:          97 KB\n\nThe following NEW packages will be INSTALLED:\n\n    geographiclib: 1.50-py_0          conda-forge\n    geopy:         2.0.0-pyh9f0ad1d_0 conda-forge\n\n\nDownloading and Extracting Packages\ngeographiclib-1.50   | 34 KB     | ##################################### | 100% \ngeopy-2.0.0          | 63 KB     | ##################################### | 100% \nPreparing transaction: done\nVerifying transaction: done\nExecuting transaction: done\nSolving environment: done\n\n# All requested packages already installed.\n\nLibraries imported.\n"
                }
            ],
            "source": "\nimport os # Operating System\nimport numpy as np\nimport pandas as pd\nimport datetime as dt # Datetime\nimport json # library to handle JSON files\n\n!conda install -c conda-forge geopy --yes\nfrom geopy.geocoders import Nominatim # convert an address into latitude and longitude values\n\nimport requests # library to handle requests\nfrom pandas.io.json import json_normalize # tranform JSON file into a pandas dataframe\n\n# Matplotlib and associated plotting modules\nimport matplotlib.cm as cm\nimport matplotlib.colors as colors\n\n!conda install -c conda-forge folium=0.5.0 --yes\nimport folium #import folium # map rendering library\n\nprint('Libraries imported.')"
        },
        {
            "cell_type": "code",
            "execution_count": 6,
            "metadata": {},
            "outputs": [],
            "source": "#Read the data for examination (Source: http://landregistry.data.gov.uk/)\ndf_ppd = pd.read_csv(\"http://prod2.publicdata.landregistry.gov.uk.s3-website-eu-west-1.amazonaws.com/pp-2018.csv\")"
        },
        {
            "cell_type": "code",
            "execution_count": 7,
            "metadata": {},
            "outputs": [
                {
                    "data": {
                        "text/html": "<div>\n<style scoped>\n    .dataframe tbody tr th:only-of-type {\n        vertical-align: middle;\n    }\n\n    .dataframe tbody tr th {\n        vertical-align: top;\n    }\n\n    .dataframe thead th {\n        text-align: right;\n    }\n</style>\n<table border=\"1\" class=\"dataframe\">\n  <thead>\n    <tr style=\"text-align: right;\">\n      <th></th>\n      <th>{7011B109-CFCA-8ED6-E053-6B04A8C075C1}</th>\n      <th>280000</th>\n      <th>2018-06-04 00:00</th>\n      <th>IP4 5ES</th>\n      <th>S</th>\n      <th>N</th>\n      <th>F</th>\n      <th>3</th>\n      <th>Unnamed: 8</th>\n      <th>RANDWELL CLOSE</th>\n      <th>Unnamed: 10</th>\n      <th>IPSWICH</th>\n      <th>IPSWICH.1</th>\n      <th>SUFFOLK</th>\n      <th>A</th>\n      <th>A.1</th>\n    </tr>\n  </thead>\n  <tbody>\n    <tr>\n      <th>0</th>\n      <td>{7011B109-CFCB-8ED6-E053-6B04A8C075C1}</td>\n      <td>280000</td>\n      <td>2018-05-29 00:00</td>\n      <td>IP1 4BS</td>\n      <td>T</td>\n      <td>N</td>\n      <td>F</td>\n      <td>261</td>\n      <td>NaN</td>\n      <td>NORWICH ROAD</td>\n      <td>NaN</td>\n      <td>IPSWICH</td>\n      <td>IPSWICH</td>\n      <td>SUFFOLK</td>\n      <td>A</td>\n      <td>A</td>\n    </tr>\n    <tr>\n      <th>1</th>\n      <td>{7011B109-CFCC-8ED6-E053-6B04A8C075C1}</td>\n      <td>170000</td>\n      <td>2018-04-27 00:00</td>\n      <td>IP4 4BH</td>\n      <td>T</td>\n      <td>N</td>\n      <td>F</td>\n      <td>31</td>\n      <td>NaN</td>\n      <td>PARADE ROAD</td>\n      <td>NaN</td>\n      <td>IPSWICH</td>\n      <td>IPSWICH</td>\n      <td>SUFFOLK</td>\n      <td>A</td>\n      <td>A</td>\n    </tr>\n    <tr>\n      <th>2</th>\n      <td>{7011B109-CFCD-8ED6-E053-6B04A8C075C1}</td>\n      <td>246000</td>\n      <td>2018-05-25 00:00</td>\n      <td>IP1 6NB</td>\n      <td>S</td>\n      <td>N</td>\n      <td>F</td>\n      <td>42</td>\n      <td>NaN</td>\n      <td>ELMCROFT ROAD</td>\n      <td>NaN</td>\n      <td>IPSWICH</td>\n      <td>IPSWICH</td>\n      <td>SUFFOLK</td>\n      <td>A</td>\n      <td>A</td>\n    </tr>\n    <tr>\n      <th>3</th>\n      <td>{7011B109-CFCE-8ED6-E053-6B04A8C075C1}</td>\n      <td>180000</td>\n      <td>2018-06-08 00:00</td>\n      <td>IP3 9LZ</td>\n      <td>T</td>\n      <td>N</td>\n      <td>F</td>\n      <td>48</td>\n      <td>NaN</td>\n      <td>WYNTERTON CLOSE</td>\n      <td>NaN</td>\n      <td>IPSWICH</td>\n      <td>IPSWICH</td>\n      <td>SUFFOLK</td>\n      <td>A</td>\n      <td>A</td>\n    </tr>\n    <tr>\n      <th>4</th>\n      <td>{7011B109-CFCF-8ED6-E053-6B04A8C075C1}</td>\n      <td>245000</td>\n      <td>2018-05-11 00:00</td>\n      <td>IP1 4BU</td>\n      <td>T</td>\n      <td>N</td>\n      <td>F</td>\n      <td>235</td>\n      <td>NaN</td>\n      <td>NORWICH ROAD</td>\n      <td>NaN</td>\n      <td>IPSWICH</td>\n      <td>IPSWICH</td>\n      <td>SUFFOLK</td>\n      <td>A</td>\n      <td>A</td>\n    </tr>\n  </tbody>\n</table>\n</div>",
                        "text/plain": "   {7011B109-CFCA-8ED6-E053-6B04A8C075C1}  280000  2018-06-04 00:00  IP4 5ES  \\\n0  {7011B109-CFCB-8ED6-E053-6B04A8C075C1}  280000  2018-05-29 00:00  IP1 4BS   \n1  {7011B109-CFCC-8ED6-E053-6B04A8C075C1}  170000  2018-04-27 00:00  IP4 4BH   \n2  {7011B109-CFCD-8ED6-E053-6B04A8C075C1}  246000  2018-05-25 00:00  IP1 6NB   \n3  {7011B109-CFCE-8ED6-E053-6B04A8C075C1}  180000  2018-06-08 00:00  IP3 9LZ   \n4  {7011B109-CFCF-8ED6-E053-6B04A8C075C1}  245000  2018-05-11 00:00  IP1 4BU   \n\n   S  N  F    3 Unnamed: 8   RANDWELL CLOSE Unnamed: 10  IPSWICH IPSWICH.1  \\\n0  T  N  F  261        NaN     NORWICH ROAD         NaN  IPSWICH   IPSWICH   \n1  T  N  F   31        NaN      PARADE ROAD         NaN  IPSWICH   IPSWICH   \n2  S  N  F   42        NaN    ELMCROFT ROAD         NaN  IPSWICH   IPSWICH   \n3  T  N  F   48        NaN  WYNTERTON CLOSE         NaN  IPSWICH   IPSWICH   \n4  T  N  F  235        NaN     NORWICH ROAD         NaN  IPSWICH   IPSWICH   \n\n   SUFFOLK  A A.1  \n0  SUFFOLK  A   A  \n1  SUFFOLK  A   A  \n2  SUFFOLK  A   A  \n3  SUFFOLK  A   A  \n4  SUFFOLK  A   A  "
                    },
                    "execution_count": 7,
                    "metadata": {},
                    "output_type": "execute_result"
                }
            ],
            "source": "\ndf_ppd.head(5)"
        },
        {
            "cell_type": "code",
            "execution_count": 8,
            "metadata": {},
            "outputs": [
                {
                    "data": {
                        "text/plain": "(1030277, 16)"
                    },
                    "execution_count": 8,
                    "metadata": {},
                    "output_type": "execute_result"
                }
            ],
            "source": "df_ppd.shape"
        },
        {
            "cell_type": "code",
            "execution_count": 9,
            "metadata": {},
            "outputs": [],
            "source": "# Assign meaningful column names\ndf_ppd.columns = ['TUID', 'Price', 'Date_Transfer', 'Postcode', 'Prop_Type', 'Old_New', 'Duration', 'PAON', \\\n                  'SAON', 'Street', 'Locality', 'Town_City', 'District', 'County', 'PPD_Cat_Type', 'Record_Status']"
        },
        {
            "cell_type": "code",
            "execution_count": 15,
            "metadata": {},
            "outputs": [],
            "source": "\n# Format the date column\ndf_ppd['Date_Transfer'] = df_ppd['Date_Transfer'].apply(pd.to_datetime)\n\n# Delete all obsolete transactions which were done before 2016\ndf_ppd.drop(df_ppd[df_ppd.Date_Transfer.dt.year < 2016].index, inplace=True)\n\n# Sort by Date of Sale\ndf_ppd.sort_values(by=['Date_Transfer'],ascending=[False],inplace=True)"
        },
        {
            "cell_type": "code",
            "execution_count": 16,
            "metadata": {},
            "outputs": [],
            "source": "\ndf_ppd_london = df_ppd.query(\"Town_City == 'LONDON'\")\n\n# Make a list of street names in LONDON\nstreets = df_ppd_london['Street'].unique().tolist()"
        },
        {
            "cell_type": "code",
            "execution_count": 17,
            "metadata": {},
            "outputs": [],
            "source": "df_grp_price = df_ppd_london.groupby(['Street'])['Price'].mean().reset_index()\n\n# Give meaningful names to the columns\ndf_grp_price.columns = ['Street', 'Avg_Price']"
        },
        {
            "cell_type": "code",
            "execution_count": 18,
            "metadata": {},
            "outputs": [],
            "source": "\n#Input your Budget's Upper Limit and Lower Limit - Find the locations df_grp_price which fits your budget\ndf_affordable = df_grp_price.query(\"(Avg_Price >= 2200000) & (Avg_Price <= 2500000)\")"
        },
        {
            "cell_type": "code",
            "execution_count": 19,
            "metadata": {},
            "outputs": [
                {
                    "data": {
                        "text/html": "<div>\n<style scoped>\n    .dataframe tbody tr th:only-of-type {\n        vertical-align: middle;\n    }\n\n    .dataframe tbody tr th {\n        vertical-align: top;\n    }\n\n    .dataframe thead th {\n        text-align: right;\n    }\n</style>\n<table border=\"1\" class=\"dataframe\">\n  <thead>\n    <tr style=\"text-align: right;\">\n      <th></th>\n      <th>Street</th>\n      <th>Avg_Price</th>\n    </tr>\n  </thead>\n  <tbody>\n    <tr>\n      <th>196</th>\n      <td>ALBION SQUARE</td>\n      <td>2.450000e+06</td>\n    </tr>\n    <tr>\n      <th>390</th>\n      <td>ANHALT ROAD</td>\n      <td>2.435000e+06</td>\n    </tr>\n    <tr>\n      <th>405</th>\n      <td>ANSDELL TERRACE</td>\n      <td>2.250000e+06</td>\n    </tr>\n    <tr>\n      <th>422</th>\n      <td>APPLEGARTH ROAD</td>\n      <td>2.400000e+06</td>\n    </tr>\n    <tr>\n      <th>856</th>\n      <td>BARONSMEAD ROAD</td>\n      <td>2.375000e+06</td>\n    </tr>\n    <tr>\n      <th>982</th>\n      <td>BEAUCLERC ROAD</td>\n      <td>2.480000e+06</td>\n    </tr>\n    <tr>\n      <th>1103</th>\n      <td>BELVEDERE DRIVE</td>\n      <td>2.340000e+06</td>\n    </tr>\n    <tr>\n      <th>1216</th>\n      <td>BICKENHALL STREET</td>\n      <td>2.208500e+06</td>\n    </tr>\n    <tr>\n      <th>1254</th>\n      <td>BIRCHLANDS AVENUE</td>\n      <td>2.217000e+06</td>\n    </tr>\n    <tr>\n      <th>1554</th>\n      <td>BRAMPTON GROVE</td>\n      <td>2.456875e+06</td>\n    </tr>\n    <tr>\n      <th>1633</th>\n      <td>BRIARDALE GARDENS</td>\n      <td>2.397132e+06</td>\n    </tr>\n    <tr>\n      <th>1798</th>\n      <td>BROOKWAY</td>\n      <td>2.400000e+06</td>\n    </tr>\n    <tr>\n      <th>1915</th>\n      <td>BURBAGE ROAD</td>\n      <td>2.445000e+06</td>\n    </tr>\n    <tr>\n      <th>1981</th>\n      <td>BURY WALK</td>\n      <td>2.492500e+06</td>\n    </tr>\n    <tr>\n      <th>2069</th>\n      <td>CALLCOTT STREET</td>\n      <td>2.375000e+06</td>\n    </tr>\n    <tr>\n      <th>2130</th>\n      <td>CAMPDEN HILL ROAD</td>\n      <td>2.379653e+06</td>\n    </tr>\n    <tr>\n      <th>2137</th>\n      <td>CAMPION ROAD</td>\n      <td>2.461000e+06</td>\n    </tr>\n    <tr>\n      <th>2159</th>\n      <td>CANNING PLACE</td>\n      <td>2.425000e+06</td>\n    </tr>\n    <tr>\n      <th>2226</th>\n      <td>CARLISLE ROAD</td>\n      <td>2.200000e+06</td>\n    </tr>\n    <tr>\n      <th>2231</th>\n      <td>CARLTON GARDENS</td>\n      <td>2.483500e+06</td>\n    </tr>\n    <tr>\n      <th>2243</th>\n      <td>CARLYLE COURT</td>\n      <td>2.300000e+06</td>\n    </tr>\n    <tr>\n      <th>2407</th>\n      <td>CHALCOT SQUARE</td>\n      <td>2.286679e+06</td>\n    </tr>\n    <tr>\n      <th>2485</th>\n      <td>CHARLES LANE</td>\n      <td>2.414000e+06</td>\n    </tr>\n    <tr>\n      <th>2563</th>\n      <td>CHELSEA CRESCENT</td>\n      <td>2.495000e+06</td>\n    </tr>\n    <tr>\n      <th>2607</th>\n      <td>CHESTER CLOSE NORTH</td>\n      <td>2.450000e+06</td>\n    </tr>\n    <tr>\n      <th>2639</th>\n      <td>CHEYNE COURT</td>\n      <td>2.250000e+06</td>\n    </tr>\n    <tr>\n      <th>2642</th>\n      <td>CHEYNE ROW</td>\n      <td>2.410000e+06</td>\n    </tr>\n    <tr>\n      <th>2687</th>\n      <td>CHISWICK MALL</td>\n      <td>2.287500e+06</td>\n    </tr>\n    <tr>\n      <th>2762</th>\n      <td>CITY ROAD</td>\n      <td>2.468340e+06</td>\n    </tr>\n    <tr>\n      <th>2809</th>\n      <td>CLARENDON STREET</td>\n      <td>2.250000e+06</td>\n    </tr>\n    <tr>\n      <th>...</th>\n      <td>...</td>\n      <td>...</td>\n    </tr>\n    <tr>\n      <th>10937</th>\n      <td>RUSSELL GARDENS MEWS</td>\n      <td>2.300000e+06</td>\n    </tr>\n    <tr>\n      <th>11185</th>\n      <td>SETTLES STREET</td>\n      <td>2.487500e+06</td>\n    </tr>\n    <tr>\n      <th>11260</th>\n      <td>SHELDON AVENUE</td>\n      <td>2.349542e+06</td>\n    </tr>\n    <tr>\n      <th>11494</th>\n      <td>SOUTH END ROW</td>\n      <td>2.470000e+06</td>\n    </tr>\n    <tr>\n      <th>11571</th>\n      <td>SOUTHWOOD LAWN ROAD</td>\n      <td>2.350000e+06</td>\n    </tr>\n    <tr>\n      <th>11574</th>\n      <td>SOVEREIGN PARK</td>\n      <td>2.500000e+06</td>\n    </tr>\n    <tr>\n      <th>11792</th>\n      <td>ST MARGARETS CRESCENT</td>\n      <td>2.216500e+06</td>\n    </tr>\n    <tr>\n      <th>11828</th>\n      <td>ST OSWALDS PLACE</td>\n      <td>2.250000e+06</td>\n    </tr>\n    <tr>\n      <th>11848</th>\n      <td>ST PETERS SQUARE</td>\n      <td>2.468730e+06</td>\n    </tr>\n    <tr>\n      <th>11885</th>\n      <td>STAFFORD TERRACE</td>\n      <td>2.355000e+06</td>\n    </tr>\n    <tr>\n      <th>12225</th>\n      <td>SUTHERLAND PLACE</td>\n      <td>2.456000e+06</td>\n    </tr>\n    <tr>\n      <th>12287</th>\n      <td>SYDNEY STREET</td>\n      <td>2.240833e+06</td>\n    </tr>\n    <tr>\n      <th>12429</th>\n      <td>THAMES BANK</td>\n      <td>2.400000e+06</td>\n    </tr>\n    <tr>\n      <th>12491</th>\n      <td>THE HEXAGON</td>\n      <td>2.335000e+06</td>\n    </tr>\n    <tr>\n      <th>12770</th>\n      <td>TREDEGAR SQUARE</td>\n      <td>2.436666e+06</td>\n    </tr>\n    <tr>\n      <th>12832</th>\n      <td>TRINITY STREET</td>\n      <td>2.317500e+06</td>\n    </tr>\n    <tr>\n      <th>12982</th>\n      <td>UPPER HAMPSTEAD WALK</td>\n      <td>2.500000e+06</td>\n    </tr>\n    <tr>\n      <th>13244</th>\n      <td>WALPOLE GARDENS</td>\n      <td>2.303500e+06</td>\n    </tr>\n    <tr>\n      <th>13246</th>\n      <td>WALPOLE STREET</td>\n      <td>2.242500e+06</td>\n    </tr>\n    <tr>\n      <th>13320</th>\n      <td>WARWICK SQUARE</td>\n      <td>2.432273e+06</td>\n    </tr>\n    <tr>\n      <th>13419</th>\n      <td>WELBECK WAY</td>\n      <td>2.267000e+06</td>\n    </tr>\n    <tr>\n      <th>13431</th>\n      <td>WELLESLEY TERRACE</td>\n      <td>2.410000e+06</td>\n    </tr>\n    <tr>\n      <th>13442</th>\n      <td>WELLINGTON STREET</td>\n      <td>2.293155e+06</td>\n    </tr>\n    <tr>\n      <th>13574</th>\n      <td>WESTMORELAND PLACE</td>\n      <td>2.300000e+06</td>\n    </tr>\n    <tr>\n      <th>13681</th>\n      <td>WHITFIELD STREET</td>\n      <td>2.451000e+06</td>\n    </tr>\n    <tr>\n      <th>13726</th>\n      <td>WILFRED STREET</td>\n      <td>2.410538e+06</td>\n    </tr>\n    <tr>\n      <th>13752</th>\n      <td>WILLOW BRIDGE ROAD</td>\n      <td>2.425000e+06</td>\n    </tr>\n    <tr>\n      <th>13772</th>\n      <td>WILSON STREET</td>\n      <td>2.257500e+06</td>\n    </tr>\n    <tr>\n      <th>13800</th>\n      <td>WINCHENDON ROAD</td>\n      <td>2.350000e+06</td>\n    </tr>\n    <tr>\n      <th>13837</th>\n      <td>WINGATE ROAD</td>\n      <td>2.206400e+06</td>\n    </tr>\n  </tbody>\n</table>\n<p>161 rows \u00d7 2 columns</p>\n</div>",
                        "text/plain": "                      Street     Avg_Price\n196            ALBION SQUARE  2.450000e+06\n390              ANHALT ROAD  2.435000e+06\n405          ANSDELL TERRACE  2.250000e+06\n422          APPLEGARTH ROAD  2.400000e+06\n856          BARONSMEAD ROAD  2.375000e+06\n982           BEAUCLERC ROAD  2.480000e+06\n1103         BELVEDERE DRIVE  2.340000e+06\n1216       BICKENHALL STREET  2.208500e+06\n1254       BIRCHLANDS AVENUE  2.217000e+06\n1554          BRAMPTON GROVE  2.456875e+06\n1633       BRIARDALE GARDENS  2.397132e+06\n1798                BROOKWAY  2.400000e+06\n1915            BURBAGE ROAD  2.445000e+06\n1981               BURY WALK  2.492500e+06\n2069         CALLCOTT STREET  2.375000e+06\n2130       CAMPDEN HILL ROAD  2.379653e+06\n2137            CAMPION ROAD  2.461000e+06\n2159           CANNING PLACE  2.425000e+06\n2226           CARLISLE ROAD  2.200000e+06\n2231         CARLTON GARDENS  2.483500e+06\n2243           CARLYLE COURT  2.300000e+06\n2407          CHALCOT SQUARE  2.286679e+06\n2485            CHARLES LANE  2.414000e+06\n2563        CHELSEA CRESCENT  2.495000e+06\n2607     CHESTER CLOSE NORTH  2.450000e+06\n2639            CHEYNE COURT  2.250000e+06\n2642              CHEYNE ROW  2.410000e+06\n2687           CHISWICK MALL  2.287500e+06\n2762               CITY ROAD  2.468340e+06\n2809        CLARENDON STREET  2.250000e+06\n...                      ...           ...\n10937   RUSSELL GARDENS MEWS  2.300000e+06\n11185         SETTLES STREET  2.487500e+06\n11260         SHELDON AVENUE  2.349542e+06\n11494          SOUTH END ROW  2.470000e+06\n11571    SOUTHWOOD LAWN ROAD  2.350000e+06\n11574         SOVEREIGN PARK  2.500000e+06\n11792  ST MARGARETS CRESCENT  2.216500e+06\n11828       ST OSWALDS PLACE  2.250000e+06\n11848       ST PETERS SQUARE  2.468730e+06\n11885       STAFFORD TERRACE  2.355000e+06\n12225       SUTHERLAND PLACE  2.456000e+06\n12287          SYDNEY STREET  2.240833e+06\n12429            THAMES BANK  2.400000e+06\n12491            THE HEXAGON  2.335000e+06\n12770        TREDEGAR SQUARE  2.436666e+06\n12832         TRINITY STREET  2.317500e+06\n12982   UPPER HAMPSTEAD WALK  2.500000e+06\n13244        WALPOLE GARDENS  2.303500e+06\n13246         WALPOLE STREET  2.242500e+06\n13320         WARWICK SQUARE  2.432273e+06\n13419            WELBECK WAY  2.267000e+06\n13431      WELLESLEY TERRACE  2.410000e+06\n13442      WELLINGTON STREET  2.293155e+06\n13574     WESTMORELAND PLACE  2.300000e+06\n13681       WHITFIELD STREET  2.451000e+06\n13726         WILFRED STREET  2.410538e+06\n13752     WILLOW BRIDGE ROAD  2.425000e+06\n13772          WILSON STREET  2.257500e+06\n13800        WINCHENDON ROAD  2.350000e+06\n13837           WINGATE ROAD  2.206400e+06\n\n[161 rows x 2 columns]"
                    },
                    "execution_count": 19,
                    "metadata": {},
                    "output_type": "execute_result"
                }
            ],
            "source": "# Display the dataframe\ndf_affordable"
        },
        {
            "cell_type": "code",
            "execution_count": 20,
            "metadata": {},
            "outputs": [
                {
                    "ename": "ImportError",
                    "evalue": "cannot import name 'vincenty'",
                    "output_type": "error",
                    "traceback": [
                        "\u001b[0;31m---------------------------------------------------------------------------\u001b[0m",
                        "\u001b[0;31mImportError\u001b[0m                               Traceback (most recent call last)",
                        "\u001b[0;32m<ipython-input-20-9ce467f00e74>\u001b[0m in \u001b[0;36m<module>\u001b[0;34m\u001b[0m\n\u001b[1;32m      5\u001b[0m \u001b[0;32mimport\u001b[0m \u001b[0mhmac\u001b[0m\u001b[0;34m\u001b[0m\u001b[0;34m\u001b[0m\u001b[0m\n\u001b[1;32m      6\u001b[0m \u001b[0;32mfrom\u001b[0m \u001b[0mgeopy\u001b[0m\u001b[0;34m.\u001b[0m\u001b[0mgeocoders\u001b[0m \u001b[0;32mimport\u001b[0m \u001b[0mNominatim\u001b[0m\u001b[0;34m\u001b[0m\u001b[0;34m\u001b[0m\u001b[0m\n\u001b[0;32m----> 7\u001b[0;31m \u001b[0;32mfrom\u001b[0m \u001b[0mgeopy\u001b[0m\u001b[0;34m.\u001b[0m\u001b[0mdistance\u001b[0m \u001b[0;32mimport\u001b[0m \u001b[0mvincenty\u001b[0m\u001b[0;34m\u001b[0m\u001b[0;34m\u001b[0m\u001b[0m\n\u001b[0m\u001b[1;32m      8\u001b[0m \u001b[0;31m# import k-means from clustering stage\u001b[0m\u001b[0;34m\u001b[0m\u001b[0;34m\u001b[0m\u001b[0;34m\u001b[0m\u001b[0m\n\u001b[1;32m      9\u001b[0m \u001b[0;32mfrom\u001b[0m \u001b[0msklearn\u001b[0m\u001b[0;34m.\u001b[0m\u001b[0mcluster\u001b[0m \u001b[0;32mimport\u001b[0m \u001b[0mKMeans\u001b[0m\u001b[0;34m\u001b[0m\u001b[0;34m\u001b[0m\u001b[0m\n",
                        "\u001b[0;31mImportError\u001b[0m: cannot import name 'vincenty'"
                    ]
                }
            ],
            "source": "\nimport pandas as pd\nimport numpy as np\nimport datetime as DT\nimport hmac\nfrom geopy.geocoders import Nominatim\nfrom geopy.distance import vincenty\n# import k-means from clustering stage\nfrom sklearn.cluster import KMeans"
        },
        {
            "cell_type": "code",
            "execution_count": 21,
            "metadata": {},
            "outputs": [
                {
                    "name": "stdout",
                    "output_type": "stream",
                    "text": "index: 196\nitem: Street       ALBION SQUARE\nAvg_Price         2.45e+06\nName: 196, dtype: object\nitem.Street only: ALBION SQUARE\nindex: 390\nitem: Street       ANHALT ROAD\nAvg_Price      2.435e+06\nName: 390, dtype: object\nitem.Street only: ANHALT ROAD\nindex: 405\nitem: Street       ANSDELL TERRACE\nAvg_Price           2.25e+06\nName: 405, dtype: object\nitem.Street only: ANSDELL TERRACE\nindex: 422\nitem: Street       APPLEGARTH ROAD\nAvg_Price            2.4e+06\nName: 422, dtype: object\nitem.Street only: APPLEGARTH ROAD\nindex: 856\nitem: Street       BARONSMEAD ROAD\nAvg_Price          2.375e+06\nName: 856, dtype: object\nitem.Street only: BARONSMEAD ROAD\nindex: 982\nitem: Street       BEAUCLERC ROAD\nAvg_Price          2.48e+06\nName: 982, dtype: object\nitem.Street only: BEAUCLERC ROAD\nindex: 1103\nitem: Street       BELVEDERE DRIVE\nAvg_Price           2.34e+06\nName: 1103, dtype: object\nitem.Street only: BELVEDERE DRIVE\nindex: 1216\nitem: Street       BICKENHALL STREET\nAvg_Price           2.2085e+06\nName: 1216, dtype: object\nitem.Street only: BICKENHALL STREET\nindex: 1254\nitem: Street       BIRCHLANDS AVENUE\nAvg_Price            2.217e+06\nName: 1254, dtype: object\nitem.Street only: BIRCHLANDS AVENUE\nindex: 1554\nitem: Street       BRAMPTON GROVE\nAvg_Price       2.45688e+06\nName: 1554, dtype: object\nitem.Street only: BRAMPTON GROVE\nindex: 1633\nitem: Street       BRIARDALE GARDENS\nAvg_Price          2.39713e+06\nName: 1633, dtype: object\nitem.Street only: BRIARDALE GARDENS\nindex: 1798\nitem: Street       BROOKWAY\nAvg_Price     2.4e+06\nName: 1798, dtype: object\nitem.Street only: BROOKWAY\nindex: 1915\nitem: Street       BURBAGE ROAD\nAvg_Price       2.445e+06\nName: 1915, dtype: object\nitem.Street only: BURBAGE ROAD\nindex: 1981\nitem: Street        BURY WALK\nAvg_Price    2.4925e+06\nName: 1981, dtype: object\nitem.Street only: BURY WALK\nindex: 2069\nitem: Street       CALLCOTT STREET\nAvg_Price          2.375e+06\nName: 2069, dtype: object\nitem.Street only: CALLCOTT STREET\nindex: 2130\nitem: Street       CAMPDEN HILL ROAD\nAvg_Price          2.37965e+06\nName: 2130, dtype: object\nitem.Street only: CAMPDEN HILL ROAD\nindex: 2137\nitem: Street       CAMPION ROAD\nAvg_Price       2.461e+06\nName: 2137, dtype: object\nitem.Street only: CAMPION ROAD\nindex: 2159\nitem: Street       CANNING PLACE\nAvg_Price        2.425e+06\nName: 2159, dtype: object\nitem.Street only: CANNING PLACE\nindex: 2226\nitem: Street       CARLISLE ROAD\nAvg_Price          2.2e+06\nName: 2226, dtype: object\nitem.Street only: CARLISLE ROAD\nindex: 2231\nitem: Street       CARLTON GARDENS\nAvg_Price         2.4835e+06\nName: 2231, dtype: object\nitem.Street only: CARLTON GARDENS\nindex: 2243\nitem: Street       CARLYLE COURT\nAvg_Price          2.3e+06\nName: 2243, dtype: object\nitem.Street only: CARLYLE COURT\nindex: 2407\nitem: Street       CHALCOT SQUARE\nAvg_Price       2.28668e+06\nName: 2407, dtype: object\nitem.Street only: CHALCOT SQUARE\nindex: 2485\nitem: Street       CHARLES LANE\nAvg_Price       2.414e+06\nName: 2485, dtype: object\nitem.Street only: CHARLES LANE\nindex: 2563\nitem: Street       CHELSEA CRESCENT\nAvg_Price           2.495e+06\nName: 2563, dtype: object\nitem.Street only: CHELSEA CRESCENT\nindex: 2607\nitem: Street       CHESTER CLOSE NORTH\nAvg_Price               2.45e+06\nName: 2607, dtype: object\nitem.Street only: CHESTER CLOSE NORTH\nindex: 2639\nitem: Street       CHEYNE COURT\nAvg_Price        2.25e+06\nName: 2639, dtype: object\nitem.Street only: CHEYNE COURT\nindex: 2642\nitem: Street       CHEYNE ROW\nAvg_Price      2.41e+06\nName: 2642, dtype: object\nitem.Street only: CHEYNE ROW\nindex: 2687\nitem: Street       CHISWICK MALL\nAvg_Price       2.2875e+06\nName: 2687, dtype: object\nitem.Street only: CHISWICK MALL\nindex: 2762\nitem: Street         CITY ROAD\nAvg_Price    2.46834e+06\nName: 2762, dtype: object\nitem.Street only: CITY ROAD\nindex: 2809\nitem: Street       CLARENDON STREET\nAvg_Price            2.25e+06\nName: 2809, dtype: object\nitem.Street only: CLARENDON STREET\nindex: 2901\nitem: Street       CLONCURRY STREET\nAvg_Price         2.38833e+06\nName: 2901, dtype: object\nitem.Street only: CLONCURRY STREET\nindex: 2945\nitem: Street       COLBECK MEWS\nAvg_Price      2.3675e+06\nName: 2945, dtype: object\nitem.Street only: COLBECK MEWS\nindex: 2996\nitem: Street       COLLEGE CRESCENT\nAvg_Price            2.44e+06\nName: 2996, dtype: object\nitem.Street only: COLLEGE CRESCENT\nindex: 3203\nitem: Street       CORNWALL TERRACE MEWS\nAvg_Price                 2.35e+06\nName: 3203, dtype: object\nitem.Street only: CORNWALL TERRACE MEWS\nindex: 3256\nitem: Street       COURT LANE GARDENS\nAvg_Price              2.36e+06\nName: 3256, dtype: object\nitem.Street only: COURT LANE GARDENS\nindex: 3378\nitem: Street       CRESCENT GROVE\nAvg_Price         2.298e+06\nName: 3378, dtype: object\nitem.Street only: CRESCENT GROVE\nindex: 3584\nitem: Street       DALEBURY ROAD\nAvg_Price          2.4e+06\nName: 3584, dtype: object\nitem.Street only: DALEBURY ROAD\nindex: 3849\nitem: Street       DEWHURST ROAD\nAvg_Price        2.425e+06\nName: 3849, dtype: object\nitem.Street only: DEWHURST ROAD\nindex: 3930\nitem: Street       DORIA ROAD\nAvg_Price    2.3625e+06\nName: 3930, dtype: object\nitem.Street only: DORIA ROAD\nindex: 3981\nitem: Street       DOWNSHIRE HILL\nAvg_Price         2.225e+06\nName: 3981, dtype: object\nitem.Street only: DOWNSHIRE HILL\nindex: 4036\nitem: Street       DUCHESS WALK\nAvg_Price      2.4775e+06\nName: 4036, dtype: object\nitem.Street only: DUCHESS WALK\nindex: 4233\nitem: Street       ECCLESTON SQUARE MEWS\nAvg_Price               2.3355e+06\nName: 4233, dtype: object\nitem.Street only: ECCLESTON SQUARE MEWS\nindex: 4286\nitem: Street       EGBERT STREET\nAvg_Price        2.265e+06\nName: 4286, dtype: object\nitem.Street only: EGBERT STREET\nindex: 4290\nitem: Street       EGERTON PLACE\nAvg_Price          2.2e+06\nName: 4290, dtype: object\nitem.Street only: EGERTON PLACE\nindex: 4376\nitem: Street       ELM PARK ROAD\nAvg_Price      2.32042e+06\nName: 4376, dtype: object\nitem.Street only: ELM PARK ROAD\nindex: 4895\nitem: Street       FLORAL STREET\nAvg_Price      2.22722e+06\nName: 4895, dtype: object\nitem.Street only: FLORAL STREET\nindex: 5017\nitem: Street       FRANK DIXON WAY\nAvg_Price         2.2125e+06\nName: 5017, dtype: object\nitem.Street only: FRANK DIXON WAY\nindex: 5099\nitem: Street       FULTON MEWS\nAvg_Price      2.299e+06\nName: 5099, dtype: object\nitem.Street only: FULTON MEWS\nindex: 5242\nitem: Street       GERARD ROAD\nAvg_Price     2.2585e+06\nName: 5242, dtype: object\nitem.Street only: GERARD ROAD\nindex: 5245\nitem: Street       GERRARD ROAD\nAvg_Price      2.2425e+06\nName: 5245, dtype: object\nitem.Street only: GERRARD ROAD\nindex: 5290\nitem: Street       GIRDLERS ROAD\nAvg_Price      2.44167e+06\nName: 5290, dtype: object\nitem.Street only: GIRDLERS ROAD\nindex: 5383\nitem: Street       GLOUCESTER CRESCENT\nAvg_Price            2.35083e+06\nName: 5383, dtype: object\nitem.Street only: GLOUCESTER CRESCENT\nindex: 5451\nitem: Street       GORDON PLACE\nAvg_Price       2.477e+06\nName: 5451, dtype: object\nitem.Street only: GORDON PLACE\nindex: 5487\nitem: Street       GRAFTON SQUARE\nAvg_Price          2.27e+06\nName: 5487, dtype: object\nitem.Street only: GRAFTON SQUARE\nindex: 5494\nitem: Street       GRAHAM TERRACE\nAvg_Price         2.325e+06\nName: 5494, dtype: object\nitem.Street only: GRAHAM TERRACE\nindex: 5953\nitem: Street       HARMAN DRIVE\nAvg_Price      2.2625e+06\nName: 5953, dtype: object\nitem.Street only: HARMAN DRIVE\nindex: 5977\nitem: Street       HARRIS STREET\nAvg_Price      2.47177e+06\nName: 5977, dtype: object\nitem.Street only: HARRIS STREET\nindex: 6041\nitem: Street       HAVANNAH STREET\nAvg_Price        2.21731e+06\nName: 6041, dtype: object\nitem.Street only: HAVANNAH STREET\nindex: 6113\nitem: Street       HAZLEWELL ROAD\nAvg_Price           2.5e+06\nName: 6113, dtype: object\nitem.Street only: HAZLEWELL ROAD\nindex: 6229\nitem: Street       HEREFORD MEWS\nAvg_Price         2.31e+06\nName: 6229, dtype: object\nitem.Street only: HEREFORD MEWS\nindex: 6249\nitem: Street       HERONDALE AVENUE\nAvg_Price           2.475e+06\nName: 6249, dtype: object\nitem.Street only: HERONDALE AVENUE\nindex: 6346\nitem: Street       HIGHGATE HIGH STREET\nAvg_Price               2.211e+06\nName: 6346, dtype: object\nitem.Street only: HIGHGATE HIGH STREET\nindex: 6361\nitem: Street       HIGHWOOD HILL\nAvg_Price       2.2525e+06\nName: 6361, dtype: object\nitem.Street only: HIGHWOOD HILL\nindex: 6397\nitem: Street       HILLGATE PLACE\nAvg_Price           2.2e+06\nName: 6397, dtype: object\nitem.Street only: HILLGATE PLACE\nindex: 6508\nitem: Street       HOLLYCROFT AVENUE\nAvg_Price          2.36138e+06\nName: 6508, dtype: object\nitem.Street only: HOLLYCROFT AVENUE\nindex: 6512\nitem: Street       HOLLYWOOD MEWS\nAvg_Price          2.35e+06\nName: 6512, dtype: object\nitem.Street only: HOLLYWOOD MEWS\nindex: 6557\nitem: Street       HONEYWELL ROAD\nAvg_Price       2.27833e+06\nName: 6557, dtype: object\nitem.Street only: HONEYWELL ROAD\nindex: 6613\nitem: Street       HORTENSIA ROAD\nAvg_Price       2.27592e+06\nName: 6613, dtype: object\nitem.Street only: HORTENSIA ROAD\nindex: 6642\nitem: Street       HOXTON SQUARE\nAvg_Price      2.23429e+06\nName: 6642, dtype: object\nitem.Street only: HOXTON SQUARE\nindex: 6668\nitem: Street       HUNTER ROAD\nAvg_Price        2.3e+06\nName: 6668, dtype: object\nitem.Street only: HUNTER ROAD\nindex: 6827\nitem: Street       JACKSONS LANE\nAvg_Price       2.3625e+06\nName: 6827, dtype: object\nitem.Street only: JACKSONS LANE\nindex: 6887\nitem: Street       JOHN STREET\nAvg_Price      2.235e+06\nName: 6887, dtype: object\nitem.Street only: JOHN STREET\nindex: 7192\nitem: Street       KINNERTON STREET\nAvg_Price          2.4856e+06\nName: 7192, dtype: object\nitem.Street only: KINNERTON STREET\nindex: 7226\nitem: Street       KNARESBOROUGH PLACE\nAvg_Price              2.325e+06\nName: 7226, dtype: object\nitem.Street only: KNARESBOROUGH PLACE\nindex: 7246\nitem: Street       KNOX STREET\nAvg_Price       2.25e+06\nName: 7246, dtype: object\nitem.Street only: KNOX STREET\nindex: 7335\nitem: Street       LANCASTER MEWS\nAvg_Price        2.3125e+06\nName: 7335, dtype: object\nitem.Street only: LANCASTER MEWS\nindex: 7405\nitem: Street       LANSDOWNE ROAD\nAvg_Price       2.36488e+06\nName: 7405, dtype: object\nitem.Street only: LANSDOWNE ROAD\nindex: 7434\nitem: Street       LATIMER INDUSTRIAL ESTATE\nAvg_Price                      2.4e+06\nName: 7434, dtype: object\nitem.Street only: LATIMER INDUSTRIAL ESTATE\nindex: 7487\nitem: Street       LAXTON PLACE\nAvg_Price         2.5e+06\nName: 7487, dtype: object\nitem.Street only: LAXTON PLACE\nindex: 7689\nitem: Street       LINCOLN AVENUE\nAvg_Price        2.2035e+06\nName: 7689, dtype: object\nitem.Street only: LINCOLN AVENUE\nindex: 7718\nitem: Street       LINGFIELD ROAD\nAvg_Price       2.24875e+06\nName: 7718, dtype: object\nitem.Street only: LINGFIELD ROAD\nindex: 7747\nitem: Street       LISSON STREET\nAvg_Price       2.4625e+06\nName: 7747, dtype: object\nitem.Street only: LISSON STREET\nindex: 7781\nitem: Street       LIVERPOOL GROVE\nAvg_Price          2.288e+06\nName: 7781, dtype: object\nitem.Street only: LIVERPOOL GROVE\nindex: 7873\nitem: Street       LONGWOOD DRIVE\nAvg_Price         2.375e+06\nName: 7873, dtype: object\nitem.Street only: LONGWOOD DRIVE\nindex: 7879\nitem: Street       LONSDALE SQUARE\nAvg_Price         2.3575e+06\nName: 7879, dtype: object\nitem.Street only: LONSDALE SQUARE\nindex: 8417\nitem: Street       MAZE HILL\nAvg_Price     2.25e+06\nName: 8417, dtype: object\nitem.Street only: MAZE HILL\nindex: 8552\nitem: Street       MIDDLESEX PASSAGE\nAvg_Price             2.28e+06\nName: 8552, dtype: object\nitem.Street only: MIDDLESEX PASSAGE\nindex: 8716\nitem: Street       MONTPELIER AVENUE\nAvg_Price              2.5e+06\nName: 8716, dtype: object\nitem.Street only: MONTPELIER AVENUE\nindex: 8726\nitem: Street       MONTPELIER WALK\nAvg_Price           2.32e+06\nName: 8726, dtype: object\nitem.Street only: MONTPELIER WALK\nindex: 8874\nitem: Street       MULTON ROAD\nAvg_Price        2.3e+06\nName: 8874, dtype: object\nitem.Street only: MULTON ROAD\nindex: 8879\nitem: Street       MUNDEN STREET\nAvg_Price         2.25e+06\nName: 8879, dtype: object\nitem.Street only: MUNDEN STREET\nindex: 9153\nitem: Street       NORFOLK CRESCENT\nAvg_Price         2.22333e+06\nName: 9153, dtype: object\nitem.Street only: NORFOLK CRESCENT\nindex: 9176\nitem: Street       NORTH CIRCULAR ROAD\nAvg_Price            2.39314e+06\nName: 9176, dtype: object\nitem.Street only: NORTH CIRCULAR ROAD\nindex: 9252\nitem: Street       NOTTINGHAM STREET\nAvg_Price           2.2275e+06\nName: 9252, dtype: object\nitem.Street only: NOTTINGHAM STREET\nindex: 9327\nitem: Street       OAKLEY STREET\nAvg_Price      2.38129e+06\nName: 9327, dtype: object\nitem.Street only: OAKLEY STREET\nindex: 9338\nitem: Street       OAKWOOD COURT\nAvg_Price      2.34875e+06\nName: 9338, dtype: object\nitem.Street only: OAKWOOD COURT\nindex: 9346\nitem: Street       OBSERVATORY GARDENS\nAvg_Price               2.42e+06\nName: 9346, dtype: object\nitem.Street only: OBSERVATORY GARDENS\nindex: 9381\nitem: Street       OLD COURT PLACE\nAvg_Price          2.395e+06\nName: 9381, dtype: object\nitem.Street only: OLD COURT PLACE\nindex: 9442\nitem: Street       ONSLOW MEWS WEST\nAvg_Price             2.3e+06\nName: 9442, dtype: object\nitem.Street only: ONSLOW MEWS WEST\nindex: 9574\nitem: Street       PALACE PLACE\nAvg_Price         2.3e+06\nName: 9574, dtype: object\nitem.Street only: PALACE PLACE\nindex: 9603\nitem: Street       PANTON STREET\nAvg_Price        2.475e+06\nName: 9603, dtype: object\nitem.Street only: PANTON STREET\nindex: 9622\nitem: Street       PARK CRESCENT\nAvg_Price         2.44e+06\nName: 9622, dtype: object\nitem.Street only: PARK CRESCENT\nindex: 9631\nitem: Street        PARK LANE\nAvg_Price    2.2415e+06\nName: 9631, dtype: object\nitem.Street only: PARK LANE\nindex: 9652\nitem: Street       PARKE ROAD\nAvg_Price    2.2625e+06\nName: 9652, dtype: object\nitem.Street only: PARKE ROAD\nindex: 9655\nitem: Street       PARKFIELDS\nAvg_Price       2.2e+06\nName: 9655, dtype: object\nitem.Street only: PARKFIELDS\nindex: 9692\nitem: Street       PARTHENIA ROAD\nAvg_Price       2.20057e+06\nName: 9692, dtype: object\nitem.Street only: PARTHENIA ROAD\nindex: 9724\nitem: Street       PAVILION ROAD\nAvg_Price          2.2e+06\nName: 9724, dtype: object\nitem.Street only: PAVILION ROAD\nindex: 9785\nitem: Street       PEMBRIDGE MEWS\nAvg_Price         2.251e+06\nName: 9785, dtype: object\nitem.Street only: PEMBRIDGE MEWS\nindex: 9787\nitem: Street       PEMBRIDGE ROAD\nAvg_Price           2.4e+06\nName: 9787, dtype: object\nitem.Street only: PEMBRIDGE ROAD\nindex: 9796\nitem: Street       PEMBROKE STUDIOS\nAvg_Price            2.45e+06\nName: 9796, dtype: object\nitem.Street only: PEMBROKE STUDIOS\nindex: 9801\nitem: Street       PENCOMBE MEWS\nAvg_Price          2.2e+06\nName: 9801, dtype: object\nitem.Street only: PENCOMBE MEWS\nindex: 9881\nitem: Street       PETERSHAM PLACE\nAvg_Price            2.3e+06\nName: 9881, dtype: object\nitem.Street only: PETERSHAM PLACE\nindex: 9896\nitem: Street       PHILLIMORE GARDENS\nAvg_Price           2.48467e+06\nName: 9896, dtype: object\nitem.Street only: PHILLIMORE GARDENS\nindex: 9904\nitem: Street       PHYSIC PLACE\nAvg_Price         2.5e+06\nName: 9904, dtype: object\nitem.Street only: PHYSIC PLACE\nindex: 9942\nitem: Street       PITFIELD STREET\nAvg_Price        2.48333e+06\nName: 9942, dtype: object\nitem.Street only: PITFIELD STREET\nindex: 10152\nitem: Street       PRINCES GATE\nAvg_Price     2.40333e+06\nName: 10152, dtype: object\nitem.Street only: PRINCES GATE\nindex: 10180\nitem: Street       PRIORY ROAD\nAvg_Price    2.24826e+06\nName: 10180, dtype: object\nitem.Street only: PRIORY ROAD\nindex: 10191\nitem: Street       PROTHERO GARDENS\nAvg_Price          2.2025e+06\nName: 10191, dtype: object\nitem.Street only: PROTHERO GARDENS\nindex: 10227\nitem: Street       PUTNEY HIGH STREET\nAvg_Price            2.3486e+06\nName: 10227, dtype: object\nitem.Street only: PUTNEY HIGH STREET\nindex: 10244\nitem: Street       QUARRENDON STREET\nAvg_Price          2.43775e+06\nName: 10244, dtype: object\nitem.Street only: QUARRENDON STREET\nindex: 10277\nitem: Street       QUEENS GATE TERRACE\nAvg_Price            2.39944e+06\nName: 10277, dtype: object\nitem.Street only: QUEENS GATE TERRACE\nindex: 10331\nitem: Street       RADSTOCK STREET\nAvg_Price         2.2175e+06\nName: 10331, dtype: object\nitem.Street only: RADSTOCK STREET\nindex: 10376\nitem: Street       RANELAGH AVENUE\nAvg_Price            2.3e+06\nName: 10376, dtype: object\nitem.Street only: RANELAGH AVENUE\nindex: 10484\nitem: Street       REDCLIFFE ROAD\nAvg_Price       2.44875e+06\nName: 10484, dtype: object\nitem.Street only: REDCLIFFE ROAD\nindex: 10509\nitem: Street       REEVES MEWS\nAvg_Price       2.45e+06\nName: 10509, dtype: object\nitem.Street only: REEVES MEWS\nindex: 10566\nitem: Street       RHEIDOL MEWS\nAvg_Price        2.31e+06\nName: 10566, dtype: object\nitem.Street only: RHEIDOL MEWS\nindex: 10621\nitem: Street       RINGWOOD AVENUE\nAvg_Price          2.275e+06\nName: 10621, dtype: object\nitem.Street only: RINGWOOD AVENUE\nindex: 10702\nitem: Street       RODERICK ROAD\nAvg_Price          2.4e+06\nName: 10702, dtype: object\nitem.Street only: RODERICK ROAD\nindex: 10759\nitem: Street       ROPEMAKERS FIELDS\nAvg_Price              2.5e+06\nName: 10759, dtype: object\nitem.Street only: ROPEMAKERS FIELDS\nindex: 10874\nitem: Street       ROYAL CRESCENT\nAvg_Price       2.34833e+06\nName: 10874, dtype: object\nitem.Street only: ROYAL CRESCENT\nindex: 10880\nitem: Street       ROYAL HILL\nAvg_Price    2.2525e+06\nName: 10880, dtype: object\nitem.Street only: ROYAL HILL\nindex: 10937\nitem: Street       RUSSELL GARDENS MEWS\nAvg_Price                 2.3e+06\nName: 10937, dtype: object\nitem.Street only: RUSSELL GARDENS MEWS\nindex: 11185\nitem: Street       SETTLES STREET\nAvg_Price        2.4875e+06\nName: 11185, dtype: object\nitem.Street only: SETTLES STREET\nindex: 11260\nitem: Street       SHELDON AVENUE\nAvg_Price       2.34954e+06\nName: 11260, dtype: object\nitem.Street only: SHELDON AVENUE\nindex: 11494\nitem: Street       SOUTH END ROW\nAvg_Price         2.47e+06\nName: 11494, dtype: object\nitem.Street only: SOUTH END ROW\nindex: 11571\nitem: Street       SOUTHWOOD LAWN ROAD\nAvg_Price               2.35e+06\nName: 11571, dtype: object\nitem.Street only: SOUTHWOOD LAWN ROAD\nindex: 11574\nitem: Street       SOVEREIGN PARK\nAvg_Price           2.5e+06\nName: 11574, dtype: object\nitem.Street only: SOVEREIGN PARK\nindex: 11792\nitem: Street       ST MARGARETS CRESCENT\nAvg_Price               2.2165e+06\nName: 11792, dtype: object\nitem.Street only: ST MARGARETS CRESCENT\nindex: 11828\nitem: Street       ST OSWALDS PLACE\nAvg_Price            2.25e+06\nName: 11828, dtype: object\nitem.Street only: ST OSWALDS PLACE\nindex: 11848\nitem: Street       ST PETERS SQUARE\nAvg_Price         2.46873e+06\nName: 11848, dtype: object\nitem.Street only: ST PETERS SQUARE\nindex: 11885\nitem: Street       STAFFORD TERRACE\nAvg_Price           2.355e+06\nName: 11885, dtype: object\nitem.Street only: STAFFORD TERRACE\nindex: 12225\nitem: Street       SUTHERLAND PLACE\nAvg_Price           2.456e+06\nName: 12225, dtype: object\nitem.Street only: SUTHERLAND PLACE\nindex: 12287\nitem: Street       SYDNEY STREET\nAvg_Price      2.24083e+06\nName: 12287, dtype: object\nitem.Street only: SYDNEY STREET\nindex: 12429\nitem: Street       THAMES BANK\nAvg_Price        2.4e+06\nName: 12429, dtype: object\nitem.Street only: THAMES BANK\nindex: 12491\nitem: Street       THE HEXAGON\nAvg_Price      2.335e+06\nName: 12491, dtype: object\nitem.Street only: THE HEXAGON\nindex: 12770\nitem: Street       TREDEGAR SQUARE\nAvg_Price        2.43667e+06\nName: 12770, dtype: object\nitem.Street only: TREDEGAR SQUARE\nindex: 12832\nitem: Street       TRINITY STREET\nAvg_Price        2.3175e+06\nName: 12832, dtype: object\nitem.Street only: TRINITY STREET\nindex: 12982\nitem: Street       UPPER HAMPSTEAD WALK\nAvg_Price                 2.5e+06\nName: 12982, dtype: object\nitem.Street only: UPPER HAMPSTEAD WALK\nindex: 13244\nitem: Street       WALPOLE GARDENS\nAvg_Price         2.3035e+06\nName: 13244, dtype: object\nitem.Street only: WALPOLE GARDENS\nindex: 13246\nitem: Street       WALPOLE STREET\nAvg_Price        2.2425e+06\nName: 13246, dtype: object\nitem.Street only: WALPOLE STREET\nindex: 13320\nitem: Street       WARWICK SQUARE\nAvg_Price       2.43227e+06\nName: 13320, dtype: object\nitem.Street only: WARWICK SQUARE\nindex: 13419\nitem: Street       WELBECK WAY\nAvg_Price      2.267e+06\nName: 13419, dtype: object\nitem.Street only: WELBECK WAY\nindex: 13431\nitem: Street       WELLESLEY TERRACE\nAvg_Price             2.41e+06\nName: 13431, dtype: object\nitem.Street only: WELLESLEY TERRACE\nindex: 13442\nitem: Street       WELLINGTON STREET\nAvg_Price          2.29316e+06\nName: 13442, dtype: object\nitem.Street only: WELLINGTON STREET\nindex: 13574\nitem: Street       WESTMORELAND PLACE\nAvg_Price               2.3e+06\nName: 13574, dtype: object\nitem.Street only: WESTMORELAND PLACE\nindex: 13681\nitem: Street       WHITFIELD STREET\nAvg_Price           2.451e+06\nName: 13681, dtype: object\nitem.Street only: WHITFIELD STREET\nindex: 13726\nitem: Street       WILFRED STREET\nAvg_Price       2.41054e+06\nName: 13726, dtype: object\nitem.Street only: WILFRED STREET\nindex: 13752\nitem: Street       WILLOW BRIDGE ROAD\nAvg_Price             2.425e+06\nName: 13752, dtype: object\nitem.Street only: WILLOW BRIDGE ROAD\nindex: 13772\nitem: Street       WILSON STREET\nAvg_Price       2.2575e+06\nName: 13772, dtype: object\nitem.Street only: WILSON STREET\nindex: 13800\nitem: Street       WINCHENDON ROAD\nAvg_Price           2.35e+06\nName: 13800, dtype: object\nitem.Street only: WINCHENDON ROAD\nindex: 13837\nitem: Street       WINGATE ROAD\nAvg_Price      2.2064e+06\nName: 13837, dtype: object\nitem.Street only: WINGATE ROAD\n"
                }
            ],
            "source": "\nfor index, item in df_affordable.iterrows():\n    print(f\"index: {index}\")\n    print(f\"item: {item}\")\n    print(f\"item.Street only: {item.Street}\")"
        },
        {
            "cell_type": "code",
            "execution_count": 37,
            "metadata": {},
            "outputs": [
                {
                    "ename": "ConfigurationError",
                    "evalue": "Using Nominatim with default or sample `user_agent` \"geopy/2.0.0\" is strongly discouraged, as it violates Nominatim's ToS https://operations.osmfoundation.org/policies/nominatim/ and may possibly cause 403 and 429 HTTP errors. Please specify a custom `user_agent` with `Nominatim(user_agent=\"my-application\")` or by overriding the default `user_agent`: `geopy.geocoders.options.default_user_agent = \"my-application\"`.",
                    "output_type": "error",
                    "traceback": [
                        "\u001b[0;31m---------------------------------------------------------------------------\u001b[0m",
                        "\u001b[0;31mConfigurationError\u001b[0m                        Traceback (most recent call last)",
                        "\u001b[0;32m<ipython-input-37-6181f31f6806>\u001b[0m in \u001b[0;36m<module>\u001b[0;34m\u001b[0m\n\u001b[1;32m      1\u001b[0m \u001b[0;34m\u001b[0m\u001b[0m\n\u001b[0;32m----> 2\u001b[0;31m \u001b[0mgeolocator\u001b[0m \u001b[0;34m=\u001b[0m \u001b[0mNominatim\u001b[0m\u001b[0;34m(\u001b[0m\u001b[0;34m)\u001b[0m\u001b[0;34m\u001b[0m\u001b[0;34m\u001b[0m\u001b[0m\n\u001b[0m",
                        "\u001b[0;32m/opt/conda/envs/Python36/lib/python3.6/site-packages/geopy/geocoders/nominatim.py\u001b[0m in \u001b[0;36m__init__\u001b[0;34m(self, timeout, proxies, domain, scheme, user_agent, ssl_context, adapter_factory)\u001b[0m\n\u001b[1;32m    112\u001b[0m                 \u001b[0;34m'overriding the default `user_agent`: '\u001b[0m\u001b[0;34m\u001b[0m\u001b[0;34m\u001b[0m\u001b[0m\n\u001b[1;32m    113\u001b[0m                 \u001b[0;34m'`geopy.geocoders.options.default_user_agent = \"my-application\"`.'\u001b[0m\u001b[0;34m\u001b[0m\u001b[0;34m\u001b[0m\u001b[0m\n\u001b[0;32m--> 114\u001b[0;31m                 \u001b[0;34m%\u001b[0m \u001b[0mself\u001b[0m\u001b[0;34m.\u001b[0m\u001b[0mheaders\u001b[0m\u001b[0;34m[\u001b[0m\u001b[0;34m'User-Agent'\u001b[0m\u001b[0;34m]\u001b[0m\u001b[0;34m\u001b[0m\u001b[0;34m\u001b[0m\u001b[0m\n\u001b[0m\u001b[1;32m    115\u001b[0m             )\n\u001b[1;32m    116\u001b[0m \u001b[0;34m\u001b[0m\u001b[0m\n",
                        "\u001b[0;31mConfigurationError\u001b[0m: Using Nominatim with default or sample `user_agent` \"geopy/2.0.0\" is strongly discouraged, as it violates Nominatim's ToS https://operations.osmfoundation.org/policies/nominatim/ and may possibly cause 403 and 429 HTTP errors. Please specify a custom `user_agent` with `Nominatim(user_agent=\"my-application\")` or by overriding the default `user_agent`: `geopy.geocoders.options.default_user_agent = \"my-application\"`."
                    ]
                }
            ],
            "source": "\ngeolocator = Nominatim()"
        },
        {
            "cell_type": "code",
            "execution_count": 39,
            "metadata": {},
            "outputs": [
                {
                    "ename": "NameError",
                    "evalue": "name 'geolocator' is not defined",
                    "output_type": "error",
                    "traceback": [
                        "\u001b[0;31m---------------------------------------------------------------------------\u001b[0m",
                        "\u001b[0;31mNameError\u001b[0m                                 Traceback (most recent call last)",
                        "\u001b[0;32m<ipython-input-39-0f5362039c03>\u001b[0m in \u001b[0;36m<module>\u001b[0;34m\u001b[0m\n\u001b[0;32m----> 1\u001b[0;31m \u001b[0mdf_affordable\u001b[0m\u001b[0;34m[\u001b[0m\u001b[0;34m'city_coord'\u001b[0m\u001b[0;34m]\u001b[0m \u001b[0;34m=\u001b[0m \u001b[0mdf_affordable\u001b[0m\u001b[0;34m[\u001b[0m\u001b[0;34m'Street'\u001b[0m\u001b[0;34m]\u001b[0m\u001b[0;34m.\u001b[0m\u001b[0mapply\u001b[0m\u001b[0;34m(\u001b[0m\u001b[0mgeolocator\u001b[0m\u001b[0;34m.\u001b[0m\u001b[0mgeocode\u001b[0m\u001b[0;34m)\u001b[0m\u001b[0;34m.\u001b[0m\u001b[0mapply\u001b[0m\u001b[0;34m(\u001b[0m\u001b[0;32mlambda\u001b[0m \u001b[0mx\u001b[0m\u001b[0;34m:\u001b[0m \u001b[0;34m(\u001b[0m\u001b[0mx\u001b[0m\u001b[0;34m.\u001b[0m\u001b[0mlatitude\u001b[0m\u001b[0;34m,\u001b[0m \u001b[0mx\u001b[0m\u001b[0;34m.\u001b[0m\u001b[0mlongitude\u001b[0m\u001b[0;34m)\u001b[0m\u001b[0;34m)\u001b[0m\u001b[0;34m\u001b[0m\u001b[0;34m\u001b[0m\u001b[0m\n\u001b[0m",
                        "\u001b[0;31mNameError\u001b[0m: name 'geolocator' is not defined"
                    ]
                }
            ],
            "source": "df_affordable['city_coord'] = df_affordable['Street'].apply(geolocator.geocode).apply(lambda x: (x.latitude, x.longitude))"
        },
        {
            "cell_type": "code",
            "execution_count": 24,
            "metadata": {},
            "outputs": [
                {
                    "data": {
                        "text/html": "<div>\n<style scoped>\n    .dataframe tbody tr th:only-of-type {\n        vertical-align: middle;\n    }\n\n    .dataframe tbody tr th {\n        vertical-align: top;\n    }\n\n    .dataframe thead th {\n        text-align: right;\n    }\n</style>\n<table border=\"1\" class=\"dataframe\">\n  <thead>\n    <tr style=\"text-align: right;\">\n      <th></th>\n      <th>Street</th>\n      <th>Avg_Price</th>\n    </tr>\n  </thead>\n  <tbody>\n    <tr>\n      <th>196</th>\n      <td>ALBION SQUARE</td>\n      <td>2.450000e+06</td>\n    </tr>\n    <tr>\n      <th>390</th>\n      <td>ANHALT ROAD</td>\n      <td>2.435000e+06</td>\n    </tr>\n    <tr>\n      <th>405</th>\n      <td>ANSDELL TERRACE</td>\n      <td>2.250000e+06</td>\n    </tr>\n    <tr>\n      <th>422</th>\n      <td>APPLEGARTH ROAD</td>\n      <td>2.400000e+06</td>\n    </tr>\n    <tr>\n      <th>856</th>\n      <td>BARONSMEAD ROAD</td>\n      <td>2.375000e+06</td>\n    </tr>\n    <tr>\n      <th>982</th>\n      <td>BEAUCLERC ROAD</td>\n      <td>2.480000e+06</td>\n    </tr>\n    <tr>\n      <th>1103</th>\n      <td>BELVEDERE DRIVE</td>\n      <td>2.340000e+06</td>\n    </tr>\n    <tr>\n      <th>1216</th>\n      <td>BICKENHALL STREET</td>\n      <td>2.208500e+06</td>\n    </tr>\n    <tr>\n      <th>1254</th>\n      <td>BIRCHLANDS AVENUE</td>\n      <td>2.217000e+06</td>\n    </tr>\n    <tr>\n      <th>1554</th>\n      <td>BRAMPTON GROVE</td>\n      <td>2.456875e+06</td>\n    </tr>\n    <tr>\n      <th>1633</th>\n      <td>BRIARDALE GARDENS</td>\n      <td>2.397132e+06</td>\n    </tr>\n    <tr>\n      <th>1798</th>\n      <td>BROOKWAY</td>\n      <td>2.400000e+06</td>\n    </tr>\n    <tr>\n      <th>1915</th>\n      <td>BURBAGE ROAD</td>\n      <td>2.445000e+06</td>\n    </tr>\n    <tr>\n      <th>1981</th>\n      <td>BURY WALK</td>\n      <td>2.492500e+06</td>\n    </tr>\n    <tr>\n      <th>2069</th>\n      <td>CALLCOTT STREET</td>\n      <td>2.375000e+06</td>\n    </tr>\n    <tr>\n      <th>2130</th>\n      <td>CAMPDEN HILL ROAD</td>\n      <td>2.379653e+06</td>\n    </tr>\n    <tr>\n      <th>2137</th>\n      <td>CAMPION ROAD</td>\n      <td>2.461000e+06</td>\n    </tr>\n    <tr>\n      <th>2159</th>\n      <td>CANNING PLACE</td>\n      <td>2.425000e+06</td>\n    </tr>\n    <tr>\n      <th>2226</th>\n      <td>CARLISLE ROAD</td>\n      <td>2.200000e+06</td>\n    </tr>\n    <tr>\n      <th>2231</th>\n      <td>CARLTON GARDENS</td>\n      <td>2.483500e+06</td>\n    </tr>\n    <tr>\n      <th>2243</th>\n      <td>CARLYLE COURT</td>\n      <td>2.300000e+06</td>\n    </tr>\n    <tr>\n      <th>2407</th>\n      <td>CHALCOT SQUARE</td>\n      <td>2.286679e+06</td>\n    </tr>\n    <tr>\n      <th>2485</th>\n      <td>CHARLES LANE</td>\n      <td>2.414000e+06</td>\n    </tr>\n    <tr>\n      <th>2563</th>\n      <td>CHELSEA CRESCENT</td>\n      <td>2.495000e+06</td>\n    </tr>\n    <tr>\n      <th>2607</th>\n      <td>CHESTER CLOSE NORTH</td>\n      <td>2.450000e+06</td>\n    </tr>\n    <tr>\n      <th>2639</th>\n      <td>CHEYNE COURT</td>\n      <td>2.250000e+06</td>\n    </tr>\n    <tr>\n      <th>2642</th>\n      <td>CHEYNE ROW</td>\n      <td>2.410000e+06</td>\n    </tr>\n    <tr>\n      <th>2687</th>\n      <td>CHISWICK MALL</td>\n      <td>2.287500e+06</td>\n    </tr>\n    <tr>\n      <th>2762</th>\n      <td>CITY ROAD</td>\n      <td>2.468340e+06</td>\n    </tr>\n    <tr>\n      <th>2809</th>\n      <td>CLARENDON STREET</td>\n      <td>2.250000e+06</td>\n    </tr>\n    <tr>\n      <th>...</th>\n      <td>...</td>\n      <td>...</td>\n    </tr>\n    <tr>\n      <th>10937</th>\n      <td>RUSSELL GARDENS MEWS</td>\n      <td>2.300000e+06</td>\n    </tr>\n    <tr>\n      <th>11185</th>\n      <td>SETTLES STREET</td>\n      <td>2.487500e+06</td>\n    </tr>\n    <tr>\n      <th>11260</th>\n      <td>SHELDON AVENUE</td>\n      <td>2.349542e+06</td>\n    </tr>\n    <tr>\n      <th>11494</th>\n      <td>SOUTH END ROW</td>\n      <td>2.470000e+06</td>\n    </tr>\n    <tr>\n      <th>11571</th>\n      <td>SOUTHWOOD LAWN ROAD</td>\n      <td>2.350000e+06</td>\n    </tr>\n    <tr>\n      <th>11574</th>\n      <td>SOVEREIGN PARK</td>\n      <td>2.500000e+06</td>\n    </tr>\n    <tr>\n      <th>11792</th>\n      <td>ST MARGARETS CRESCENT</td>\n      <td>2.216500e+06</td>\n    </tr>\n    <tr>\n      <th>11828</th>\n      <td>ST OSWALDS PLACE</td>\n      <td>2.250000e+06</td>\n    </tr>\n    <tr>\n      <th>11848</th>\n      <td>ST PETERS SQUARE</td>\n      <td>2.468730e+06</td>\n    </tr>\n    <tr>\n      <th>11885</th>\n      <td>STAFFORD TERRACE</td>\n      <td>2.355000e+06</td>\n    </tr>\n    <tr>\n      <th>12225</th>\n      <td>SUTHERLAND PLACE</td>\n      <td>2.456000e+06</td>\n    </tr>\n    <tr>\n      <th>12287</th>\n      <td>SYDNEY STREET</td>\n      <td>2.240833e+06</td>\n    </tr>\n    <tr>\n      <th>12429</th>\n      <td>THAMES BANK</td>\n      <td>2.400000e+06</td>\n    </tr>\n    <tr>\n      <th>12491</th>\n      <td>THE HEXAGON</td>\n      <td>2.335000e+06</td>\n    </tr>\n    <tr>\n      <th>12770</th>\n      <td>TREDEGAR SQUARE</td>\n      <td>2.436666e+06</td>\n    </tr>\n    <tr>\n      <th>12832</th>\n      <td>TRINITY STREET</td>\n      <td>2.317500e+06</td>\n    </tr>\n    <tr>\n      <th>12982</th>\n      <td>UPPER HAMPSTEAD WALK</td>\n      <td>2.500000e+06</td>\n    </tr>\n    <tr>\n      <th>13244</th>\n      <td>WALPOLE GARDENS</td>\n      <td>2.303500e+06</td>\n    </tr>\n    <tr>\n      <th>13246</th>\n      <td>WALPOLE STREET</td>\n      <td>2.242500e+06</td>\n    </tr>\n    <tr>\n      <th>13320</th>\n      <td>WARWICK SQUARE</td>\n      <td>2.432273e+06</td>\n    </tr>\n    <tr>\n      <th>13419</th>\n      <td>WELBECK WAY</td>\n      <td>2.267000e+06</td>\n    </tr>\n    <tr>\n      <th>13431</th>\n      <td>WELLESLEY TERRACE</td>\n      <td>2.410000e+06</td>\n    </tr>\n    <tr>\n      <th>13442</th>\n      <td>WELLINGTON STREET</td>\n      <td>2.293155e+06</td>\n    </tr>\n    <tr>\n      <th>13574</th>\n      <td>WESTMORELAND PLACE</td>\n      <td>2.300000e+06</td>\n    </tr>\n    <tr>\n      <th>13681</th>\n      <td>WHITFIELD STREET</td>\n      <td>2.451000e+06</td>\n    </tr>\n    <tr>\n      <th>13726</th>\n      <td>WILFRED STREET</td>\n      <td>2.410538e+06</td>\n    </tr>\n    <tr>\n      <th>13752</th>\n      <td>WILLOW BRIDGE ROAD</td>\n      <td>2.425000e+06</td>\n    </tr>\n    <tr>\n      <th>13772</th>\n      <td>WILSON STREET</td>\n      <td>2.257500e+06</td>\n    </tr>\n    <tr>\n      <th>13800</th>\n      <td>WINCHENDON ROAD</td>\n      <td>2.350000e+06</td>\n    </tr>\n    <tr>\n      <th>13837</th>\n      <td>WINGATE ROAD</td>\n      <td>2.206400e+06</td>\n    </tr>\n  </tbody>\n</table>\n<p>161 rows \u00d7 2 columns</p>\n</div>",
                        "text/plain": "                      Street     Avg_Price\n196            ALBION SQUARE  2.450000e+06\n390              ANHALT ROAD  2.435000e+06\n405          ANSDELL TERRACE  2.250000e+06\n422          APPLEGARTH ROAD  2.400000e+06\n856          BARONSMEAD ROAD  2.375000e+06\n982           BEAUCLERC ROAD  2.480000e+06\n1103         BELVEDERE DRIVE  2.340000e+06\n1216       BICKENHALL STREET  2.208500e+06\n1254       BIRCHLANDS AVENUE  2.217000e+06\n1554          BRAMPTON GROVE  2.456875e+06\n1633       BRIARDALE GARDENS  2.397132e+06\n1798                BROOKWAY  2.400000e+06\n1915            BURBAGE ROAD  2.445000e+06\n1981               BURY WALK  2.492500e+06\n2069         CALLCOTT STREET  2.375000e+06\n2130       CAMPDEN HILL ROAD  2.379653e+06\n2137            CAMPION ROAD  2.461000e+06\n2159           CANNING PLACE  2.425000e+06\n2226           CARLISLE ROAD  2.200000e+06\n2231         CARLTON GARDENS  2.483500e+06\n2243           CARLYLE COURT  2.300000e+06\n2407          CHALCOT SQUARE  2.286679e+06\n2485            CHARLES LANE  2.414000e+06\n2563        CHELSEA CRESCENT  2.495000e+06\n2607     CHESTER CLOSE NORTH  2.450000e+06\n2639            CHEYNE COURT  2.250000e+06\n2642              CHEYNE ROW  2.410000e+06\n2687           CHISWICK MALL  2.287500e+06\n2762               CITY ROAD  2.468340e+06\n2809        CLARENDON STREET  2.250000e+06\n...                      ...           ...\n10937   RUSSELL GARDENS MEWS  2.300000e+06\n11185         SETTLES STREET  2.487500e+06\n11260         SHELDON AVENUE  2.349542e+06\n11494          SOUTH END ROW  2.470000e+06\n11571    SOUTHWOOD LAWN ROAD  2.350000e+06\n11574         SOVEREIGN PARK  2.500000e+06\n11792  ST MARGARETS CRESCENT  2.216500e+06\n11828       ST OSWALDS PLACE  2.250000e+06\n11848       ST PETERS SQUARE  2.468730e+06\n11885       STAFFORD TERRACE  2.355000e+06\n12225       SUTHERLAND PLACE  2.456000e+06\n12287          SYDNEY STREET  2.240833e+06\n12429            THAMES BANK  2.400000e+06\n12491            THE HEXAGON  2.335000e+06\n12770        TREDEGAR SQUARE  2.436666e+06\n12832         TRINITY STREET  2.317500e+06\n12982   UPPER HAMPSTEAD WALK  2.500000e+06\n13244        WALPOLE GARDENS  2.303500e+06\n13246         WALPOLE STREET  2.242500e+06\n13320         WARWICK SQUARE  2.432273e+06\n13419            WELBECK WAY  2.267000e+06\n13431      WELLESLEY TERRACE  2.410000e+06\n13442      WELLINGTON STREET  2.293155e+06\n13574     WESTMORELAND PLACE  2.300000e+06\n13681       WHITFIELD STREET  2.451000e+06\n13726         WILFRED STREET  2.410538e+06\n13752     WILLOW BRIDGE ROAD  2.425000e+06\n13772          WILSON STREET  2.257500e+06\n13800        WINCHENDON ROAD  2.350000e+06\n13837           WINGATE ROAD  2.206400e+06\n\n[161 rows x 2 columns]"
                    },
                    "execution_count": 24,
                    "metadata": {},
                    "output_type": "execute_result"
                }
            ],
            "source": "df_affordable"
        },
        {
            "cell_type": "code",
            "execution_count": 25,
            "metadata": {},
            "outputs": [
                {
                    "ename": "KeyError",
                    "evalue": "'city_coord'",
                    "output_type": "error",
                    "traceback": [
                        "\u001b[0;31m---------------------------------------------------------------------------\u001b[0m",
                        "\u001b[0;31mKeyError\u001b[0m                                  Traceback (most recent call last)",
                        "\u001b[0;32m/opt/conda/envs/Python36/lib/python3.6/site-packages/pandas/core/indexes/base.py\u001b[0m in \u001b[0;36mget_loc\u001b[0;34m(self, key, method, tolerance)\u001b[0m\n\u001b[1;32m   2655\u001b[0m             \u001b[0;32mtry\u001b[0m\u001b[0;34m:\u001b[0m\u001b[0;34m\u001b[0m\u001b[0;34m\u001b[0m\u001b[0m\n\u001b[0;32m-> 2656\u001b[0;31m                 \u001b[0;32mreturn\u001b[0m \u001b[0mself\u001b[0m\u001b[0;34m.\u001b[0m\u001b[0m_engine\u001b[0m\u001b[0;34m.\u001b[0m\u001b[0mget_loc\u001b[0m\u001b[0;34m(\u001b[0m\u001b[0mkey\u001b[0m\u001b[0;34m)\u001b[0m\u001b[0;34m\u001b[0m\u001b[0;34m\u001b[0m\u001b[0m\n\u001b[0m\u001b[1;32m   2657\u001b[0m             \u001b[0;32mexcept\u001b[0m \u001b[0mKeyError\u001b[0m\u001b[0;34m:\u001b[0m\u001b[0;34m\u001b[0m\u001b[0;34m\u001b[0m\u001b[0m\n",
                        "\u001b[0;32mpandas/_libs/index.pyx\u001b[0m in \u001b[0;36mpandas._libs.index.IndexEngine.get_loc\u001b[0;34m()\u001b[0m\n",
                        "\u001b[0;32mpandas/_libs/index.pyx\u001b[0m in \u001b[0;36mpandas._libs.index.IndexEngine.get_loc\u001b[0;34m()\u001b[0m\n",
                        "\u001b[0;32mpandas/_libs/hashtable_class_helper.pxi\u001b[0m in \u001b[0;36mpandas._libs.hashtable.PyObjectHashTable.get_item\u001b[0;34m()\u001b[0m\n",
                        "\u001b[0;32mpandas/_libs/hashtable_class_helper.pxi\u001b[0m in \u001b[0;36mpandas._libs.hashtable.PyObjectHashTable.get_item\u001b[0;34m()\u001b[0m\n",
                        "\u001b[0;31mKeyError\u001b[0m: 'city_coord'",
                        "\nDuring handling of the above exception, another exception occurred:\n",
                        "\u001b[0;31mKeyError\u001b[0m                                  Traceback (most recent call last)",
                        "\u001b[0;32m<ipython-input-25-0fea049c2a97>\u001b[0m in \u001b[0;36m<module>\u001b[0;34m\u001b[0m\n\u001b[0;32m----> 1\u001b[0;31m \u001b[0mdf_affordable\u001b[0m\u001b[0;34m[\u001b[0m\u001b[0;34m[\u001b[0m\u001b[0;34m'Latitude'\u001b[0m\u001b[0;34m,\u001b[0m \u001b[0;34m'Longitude'\u001b[0m\u001b[0;34m]\u001b[0m\u001b[0;34m]\u001b[0m \u001b[0;34m=\u001b[0m \u001b[0mdf_affordable\u001b[0m\u001b[0;34m[\u001b[0m\u001b[0;34m'city_coord'\u001b[0m\u001b[0;34m]\u001b[0m\u001b[0;34m.\u001b[0m\u001b[0mapply\u001b[0m\u001b[0;34m(\u001b[0m\u001b[0mpd\u001b[0m\u001b[0;34m.\u001b[0m\u001b[0mSeries\u001b[0m\u001b[0;34m)\u001b[0m\u001b[0;34m\u001b[0m\u001b[0;34m\u001b[0m\u001b[0m\n\u001b[0m",
                        "\u001b[0;32m/opt/conda/envs/Python36/lib/python3.6/site-packages/pandas/core/frame.py\u001b[0m in \u001b[0;36m__getitem__\u001b[0;34m(self, key)\u001b[0m\n\u001b[1;32m   2925\u001b[0m             \u001b[0;32mif\u001b[0m \u001b[0mself\u001b[0m\u001b[0;34m.\u001b[0m\u001b[0mcolumns\u001b[0m\u001b[0;34m.\u001b[0m\u001b[0mnlevels\u001b[0m \u001b[0;34m>\u001b[0m \u001b[0;36m1\u001b[0m\u001b[0;34m:\u001b[0m\u001b[0;34m\u001b[0m\u001b[0;34m\u001b[0m\u001b[0m\n\u001b[1;32m   2926\u001b[0m                 \u001b[0;32mreturn\u001b[0m \u001b[0mself\u001b[0m\u001b[0;34m.\u001b[0m\u001b[0m_getitem_multilevel\u001b[0m\u001b[0;34m(\u001b[0m\u001b[0mkey\u001b[0m\u001b[0;34m)\u001b[0m\u001b[0;34m\u001b[0m\u001b[0;34m\u001b[0m\u001b[0m\n\u001b[0;32m-> 2927\u001b[0;31m             \u001b[0mindexer\u001b[0m \u001b[0;34m=\u001b[0m \u001b[0mself\u001b[0m\u001b[0;34m.\u001b[0m\u001b[0mcolumns\u001b[0m\u001b[0;34m.\u001b[0m\u001b[0mget_loc\u001b[0m\u001b[0;34m(\u001b[0m\u001b[0mkey\u001b[0m\u001b[0;34m)\u001b[0m\u001b[0;34m\u001b[0m\u001b[0;34m\u001b[0m\u001b[0m\n\u001b[0m\u001b[1;32m   2928\u001b[0m             \u001b[0;32mif\u001b[0m \u001b[0mis_integer\u001b[0m\u001b[0;34m(\u001b[0m\u001b[0mindexer\u001b[0m\u001b[0;34m)\u001b[0m\u001b[0;34m:\u001b[0m\u001b[0;34m\u001b[0m\u001b[0;34m\u001b[0m\u001b[0m\n\u001b[1;32m   2929\u001b[0m                 \u001b[0mindexer\u001b[0m \u001b[0;34m=\u001b[0m \u001b[0;34m[\u001b[0m\u001b[0mindexer\u001b[0m\u001b[0;34m]\u001b[0m\u001b[0;34m\u001b[0m\u001b[0;34m\u001b[0m\u001b[0m\n",
                        "\u001b[0;32m/opt/conda/envs/Python36/lib/python3.6/site-packages/pandas/core/indexes/base.py\u001b[0m in \u001b[0;36mget_loc\u001b[0;34m(self, key, method, tolerance)\u001b[0m\n\u001b[1;32m   2656\u001b[0m                 \u001b[0;32mreturn\u001b[0m \u001b[0mself\u001b[0m\u001b[0;34m.\u001b[0m\u001b[0m_engine\u001b[0m\u001b[0;34m.\u001b[0m\u001b[0mget_loc\u001b[0m\u001b[0;34m(\u001b[0m\u001b[0mkey\u001b[0m\u001b[0;34m)\u001b[0m\u001b[0;34m\u001b[0m\u001b[0;34m\u001b[0m\u001b[0m\n\u001b[1;32m   2657\u001b[0m             \u001b[0;32mexcept\u001b[0m \u001b[0mKeyError\u001b[0m\u001b[0;34m:\u001b[0m\u001b[0;34m\u001b[0m\u001b[0;34m\u001b[0m\u001b[0m\n\u001b[0;32m-> 2658\u001b[0;31m                 \u001b[0;32mreturn\u001b[0m \u001b[0mself\u001b[0m\u001b[0;34m.\u001b[0m\u001b[0m_engine\u001b[0m\u001b[0;34m.\u001b[0m\u001b[0mget_loc\u001b[0m\u001b[0;34m(\u001b[0m\u001b[0mself\u001b[0m\u001b[0;34m.\u001b[0m\u001b[0m_maybe_cast_indexer\u001b[0m\u001b[0;34m(\u001b[0m\u001b[0mkey\u001b[0m\u001b[0;34m)\u001b[0m\u001b[0;34m)\u001b[0m\u001b[0;34m\u001b[0m\u001b[0;34m\u001b[0m\u001b[0m\n\u001b[0m\u001b[1;32m   2659\u001b[0m         \u001b[0mindexer\u001b[0m \u001b[0;34m=\u001b[0m \u001b[0mself\u001b[0m\u001b[0;34m.\u001b[0m\u001b[0mget_indexer\u001b[0m\u001b[0;34m(\u001b[0m\u001b[0;34m[\u001b[0m\u001b[0mkey\u001b[0m\u001b[0;34m]\u001b[0m\u001b[0;34m,\u001b[0m \u001b[0mmethod\u001b[0m\u001b[0;34m=\u001b[0m\u001b[0mmethod\u001b[0m\u001b[0;34m,\u001b[0m \u001b[0mtolerance\u001b[0m\u001b[0;34m=\u001b[0m\u001b[0mtolerance\u001b[0m\u001b[0;34m)\u001b[0m\u001b[0;34m\u001b[0m\u001b[0;34m\u001b[0m\u001b[0m\n\u001b[1;32m   2660\u001b[0m         \u001b[0;32mif\u001b[0m \u001b[0mindexer\u001b[0m\u001b[0;34m.\u001b[0m\u001b[0mndim\u001b[0m \u001b[0;34m>\u001b[0m \u001b[0;36m1\u001b[0m \u001b[0;32mor\u001b[0m \u001b[0mindexer\u001b[0m\u001b[0;34m.\u001b[0m\u001b[0msize\u001b[0m \u001b[0;34m>\u001b[0m \u001b[0;36m1\u001b[0m\u001b[0;34m:\u001b[0m\u001b[0;34m\u001b[0m\u001b[0;34m\u001b[0m\u001b[0m\n",
                        "\u001b[0;32mpandas/_libs/index.pyx\u001b[0m in \u001b[0;36mpandas._libs.index.IndexEngine.get_loc\u001b[0;34m()\u001b[0m\n",
                        "\u001b[0;32mpandas/_libs/index.pyx\u001b[0m in \u001b[0;36mpandas._libs.index.IndexEngine.get_loc\u001b[0;34m()\u001b[0m\n",
                        "\u001b[0;32mpandas/_libs/hashtable_class_helper.pxi\u001b[0m in \u001b[0;36mpandas._libs.hashtable.PyObjectHashTable.get_item\u001b[0;34m()\u001b[0m\n",
                        "\u001b[0;32mpandas/_libs/hashtable_class_helper.pxi\u001b[0m in \u001b[0;36mpandas._libs.hashtable.PyObjectHashTable.get_item\u001b[0;34m()\u001b[0m\n",
                        "\u001b[0;31mKeyError\u001b[0m: 'city_coord'"
                    ]
                }
            ],
            "source": "df_affordable[['Latitude', 'Longitude']] = df_affordable['city_coord'].apply(pd.Series)\n"
        },
        {
            "cell_type": "code",
            "execution_count": 26,
            "metadata": {},
            "outputs": [
                {
                    "data": {
                        "text/html": "<div>\n<style scoped>\n    .dataframe tbody tr th:only-of-type {\n        vertical-align: middle;\n    }\n\n    .dataframe tbody tr th {\n        vertical-align: top;\n    }\n\n    .dataframe thead th {\n        text-align: right;\n    }\n</style>\n<table border=\"1\" class=\"dataframe\">\n  <thead>\n    <tr style=\"text-align: right;\">\n      <th></th>\n      <th>Street</th>\n      <th>Avg_Price</th>\n    </tr>\n  </thead>\n  <tbody>\n    <tr>\n      <th>196</th>\n      <td>ALBION SQUARE</td>\n      <td>2.450000e+06</td>\n    </tr>\n    <tr>\n      <th>390</th>\n      <td>ANHALT ROAD</td>\n      <td>2.435000e+06</td>\n    </tr>\n    <tr>\n      <th>405</th>\n      <td>ANSDELL TERRACE</td>\n      <td>2.250000e+06</td>\n    </tr>\n    <tr>\n      <th>422</th>\n      <td>APPLEGARTH ROAD</td>\n      <td>2.400000e+06</td>\n    </tr>\n    <tr>\n      <th>856</th>\n      <td>BARONSMEAD ROAD</td>\n      <td>2.375000e+06</td>\n    </tr>\n    <tr>\n      <th>982</th>\n      <td>BEAUCLERC ROAD</td>\n      <td>2.480000e+06</td>\n    </tr>\n    <tr>\n      <th>1103</th>\n      <td>BELVEDERE DRIVE</td>\n      <td>2.340000e+06</td>\n    </tr>\n    <tr>\n      <th>1216</th>\n      <td>BICKENHALL STREET</td>\n      <td>2.208500e+06</td>\n    </tr>\n    <tr>\n      <th>1254</th>\n      <td>BIRCHLANDS AVENUE</td>\n      <td>2.217000e+06</td>\n    </tr>\n    <tr>\n      <th>1554</th>\n      <td>BRAMPTON GROVE</td>\n      <td>2.456875e+06</td>\n    </tr>\n    <tr>\n      <th>1633</th>\n      <td>BRIARDALE GARDENS</td>\n      <td>2.397132e+06</td>\n    </tr>\n    <tr>\n      <th>1798</th>\n      <td>BROOKWAY</td>\n      <td>2.400000e+06</td>\n    </tr>\n    <tr>\n      <th>1915</th>\n      <td>BURBAGE ROAD</td>\n      <td>2.445000e+06</td>\n    </tr>\n    <tr>\n      <th>1981</th>\n      <td>BURY WALK</td>\n      <td>2.492500e+06</td>\n    </tr>\n    <tr>\n      <th>2069</th>\n      <td>CALLCOTT STREET</td>\n      <td>2.375000e+06</td>\n    </tr>\n    <tr>\n      <th>2130</th>\n      <td>CAMPDEN HILL ROAD</td>\n      <td>2.379653e+06</td>\n    </tr>\n    <tr>\n      <th>2137</th>\n      <td>CAMPION ROAD</td>\n      <td>2.461000e+06</td>\n    </tr>\n    <tr>\n      <th>2159</th>\n      <td>CANNING PLACE</td>\n      <td>2.425000e+06</td>\n    </tr>\n    <tr>\n      <th>2226</th>\n      <td>CARLISLE ROAD</td>\n      <td>2.200000e+06</td>\n    </tr>\n    <tr>\n      <th>2231</th>\n      <td>CARLTON GARDENS</td>\n      <td>2.483500e+06</td>\n    </tr>\n    <tr>\n      <th>2243</th>\n      <td>CARLYLE COURT</td>\n      <td>2.300000e+06</td>\n    </tr>\n    <tr>\n      <th>2407</th>\n      <td>CHALCOT SQUARE</td>\n      <td>2.286679e+06</td>\n    </tr>\n    <tr>\n      <th>2485</th>\n      <td>CHARLES LANE</td>\n      <td>2.414000e+06</td>\n    </tr>\n    <tr>\n      <th>2563</th>\n      <td>CHELSEA CRESCENT</td>\n      <td>2.495000e+06</td>\n    </tr>\n    <tr>\n      <th>2607</th>\n      <td>CHESTER CLOSE NORTH</td>\n      <td>2.450000e+06</td>\n    </tr>\n    <tr>\n      <th>2639</th>\n      <td>CHEYNE COURT</td>\n      <td>2.250000e+06</td>\n    </tr>\n    <tr>\n      <th>2642</th>\n      <td>CHEYNE ROW</td>\n      <td>2.410000e+06</td>\n    </tr>\n    <tr>\n      <th>2687</th>\n      <td>CHISWICK MALL</td>\n      <td>2.287500e+06</td>\n    </tr>\n    <tr>\n      <th>2762</th>\n      <td>CITY ROAD</td>\n      <td>2.468340e+06</td>\n    </tr>\n    <tr>\n      <th>2809</th>\n      <td>CLARENDON STREET</td>\n      <td>2.250000e+06</td>\n    </tr>\n    <tr>\n      <th>...</th>\n      <td>...</td>\n      <td>...</td>\n    </tr>\n    <tr>\n      <th>10937</th>\n      <td>RUSSELL GARDENS MEWS</td>\n      <td>2.300000e+06</td>\n    </tr>\n    <tr>\n      <th>11185</th>\n      <td>SETTLES STREET</td>\n      <td>2.487500e+06</td>\n    </tr>\n    <tr>\n      <th>11260</th>\n      <td>SHELDON AVENUE</td>\n      <td>2.349542e+06</td>\n    </tr>\n    <tr>\n      <th>11494</th>\n      <td>SOUTH END ROW</td>\n      <td>2.470000e+06</td>\n    </tr>\n    <tr>\n      <th>11571</th>\n      <td>SOUTHWOOD LAWN ROAD</td>\n      <td>2.350000e+06</td>\n    </tr>\n    <tr>\n      <th>11574</th>\n      <td>SOVEREIGN PARK</td>\n      <td>2.500000e+06</td>\n    </tr>\n    <tr>\n      <th>11792</th>\n      <td>ST MARGARETS CRESCENT</td>\n      <td>2.216500e+06</td>\n    </tr>\n    <tr>\n      <th>11828</th>\n      <td>ST OSWALDS PLACE</td>\n      <td>2.250000e+06</td>\n    </tr>\n    <tr>\n      <th>11848</th>\n      <td>ST PETERS SQUARE</td>\n      <td>2.468730e+06</td>\n    </tr>\n    <tr>\n      <th>11885</th>\n      <td>STAFFORD TERRACE</td>\n      <td>2.355000e+06</td>\n    </tr>\n    <tr>\n      <th>12225</th>\n      <td>SUTHERLAND PLACE</td>\n      <td>2.456000e+06</td>\n    </tr>\n    <tr>\n      <th>12287</th>\n      <td>SYDNEY STREET</td>\n      <td>2.240833e+06</td>\n    </tr>\n    <tr>\n      <th>12429</th>\n      <td>THAMES BANK</td>\n      <td>2.400000e+06</td>\n    </tr>\n    <tr>\n      <th>12491</th>\n      <td>THE HEXAGON</td>\n      <td>2.335000e+06</td>\n    </tr>\n    <tr>\n      <th>12770</th>\n      <td>TREDEGAR SQUARE</td>\n      <td>2.436666e+06</td>\n    </tr>\n    <tr>\n      <th>12832</th>\n      <td>TRINITY STREET</td>\n      <td>2.317500e+06</td>\n    </tr>\n    <tr>\n      <th>12982</th>\n      <td>UPPER HAMPSTEAD WALK</td>\n      <td>2.500000e+06</td>\n    </tr>\n    <tr>\n      <th>13244</th>\n      <td>WALPOLE GARDENS</td>\n      <td>2.303500e+06</td>\n    </tr>\n    <tr>\n      <th>13246</th>\n      <td>WALPOLE STREET</td>\n      <td>2.242500e+06</td>\n    </tr>\n    <tr>\n      <th>13320</th>\n      <td>WARWICK SQUARE</td>\n      <td>2.432273e+06</td>\n    </tr>\n    <tr>\n      <th>13419</th>\n      <td>WELBECK WAY</td>\n      <td>2.267000e+06</td>\n    </tr>\n    <tr>\n      <th>13431</th>\n      <td>WELLESLEY TERRACE</td>\n      <td>2.410000e+06</td>\n    </tr>\n    <tr>\n      <th>13442</th>\n      <td>WELLINGTON STREET</td>\n      <td>2.293155e+06</td>\n    </tr>\n    <tr>\n      <th>13574</th>\n      <td>WESTMORELAND PLACE</td>\n      <td>2.300000e+06</td>\n    </tr>\n    <tr>\n      <th>13681</th>\n      <td>WHITFIELD STREET</td>\n      <td>2.451000e+06</td>\n    </tr>\n    <tr>\n      <th>13726</th>\n      <td>WILFRED STREET</td>\n      <td>2.410538e+06</td>\n    </tr>\n    <tr>\n      <th>13752</th>\n      <td>WILLOW BRIDGE ROAD</td>\n      <td>2.425000e+06</td>\n    </tr>\n    <tr>\n      <th>13772</th>\n      <td>WILSON STREET</td>\n      <td>2.257500e+06</td>\n    </tr>\n    <tr>\n      <th>13800</th>\n      <td>WINCHENDON ROAD</td>\n      <td>2.350000e+06</td>\n    </tr>\n    <tr>\n      <th>13837</th>\n      <td>WINGATE ROAD</td>\n      <td>2.206400e+06</td>\n    </tr>\n  </tbody>\n</table>\n<p>161 rows \u00d7 2 columns</p>\n</div>",
                        "text/plain": "                      Street     Avg_Price\n196            ALBION SQUARE  2.450000e+06\n390              ANHALT ROAD  2.435000e+06\n405          ANSDELL TERRACE  2.250000e+06\n422          APPLEGARTH ROAD  2.400000e+06\n856          BARONSMEAD ROAD  2.375000e+06\n982           BEAUCLERC ROAD  2.480000e+06\n1103         BELVEDERE DRIVE  2.340000e+06\n1216       BICKENHALL STREET  2.208500e+06\n1254       BIRCHLANDS AVENUE  2.217000e+06\n1554          BRAMPTON GROVE  2.456875e+06\n1633       BRIARDALE GARDENS  2.397132e+06\n1798                BROOKWAY  2.400000e+06\n1915            BURBAGE ROAD  2.445000e+06\n1981               BURY WALK  2.492500e+06\n2069         CALLCOTT STREET  2.375000e+06\n2130       CAMPDEN HILL ROAD  2.379653e+06\n2137            CAMPION ROAD  2.461000e+06\n2159           CANNING PLACE  2.425000e+06\n2226           CARLISLE ROAD  2.200000e+06\n2231         CARLTON GARDENS  2.483500e+06\n2243           CARLYLE COURT  2.300000e+06\n2407          CHALCOT SQUARE  2.286679e+06\n2485            CHARLES LANE  2.414000e+06\n2563        CHELSEA CRESCENT  2.495000e+06\n2607     CHESTER CLOSE NORTH  2.450000e+06\n2639            CHEYNE COURT  2.250000e+06\n2642              CHEYNE ROW  2.410000e+06\n2687           CHISWICK MALL  2.287500e+06\n2762               CITY ROAD  2.468340e+06\n2809        CLARENDON STREET  2.250000e+06\n...                      ...           ...\n10937   RUSSELL GARDENS MEWS  2.300000e+06\n11185         SETTLES STREET  2.487500e+06\n11260         SHELDON AVENUE  2.349542e+06\n11494          SOUTH END ROW  2.470000e+06\n11571    SOUTHWOOD LAWN ROAD  2.350000e+06\n11574         SOVEREIGN PARK  2.500000e+06\n11792  ST MARGARETS CRESCENT  2.216500e+06\n11828       ST OSWALDS PLACE  2.250000e+06\n11848       ST PETERS SQUARE  2.468730e+06\n11885       STAFFORD TERRACE  2.355000e+06\n12225       SUTHERLAND PLACE  2.456000e+06\n12287          SYDNEY STREET  2.240833e+06\n12429            THAMES BANK  2.400000e+06\n12491            THE HEXAGON  2.335000e+06\n12770        TREDEGAR SQUARE  2.436666e+06\n12832         TRINITY STREET  2.317500e+06\n12982   UPPER HAMPSTEAD WALK  2.500000e+06\n13244        WALPOLE GARDENS  2.303500e+06\n13246         WALPOLE STREET  2.242500e+06\n13320         WARWICK SQUARE  2.432273e+06\n13419            WELBECK WAY  2.267000e+06\n13431      WELLESLEY TERRACE  2.410000e+06\n13442      WELLINGTON STREET  2.293155e+06\n13574     WESTMORELAND PLACE  2.300000e+06\n13681       WHITFIELD STREET  2.451000e+06\n13726         WILFRED STREET  2.410538e+06\n13752     WILLOW BRIDGE ROAD  2.425000e+06\n13772          WILSON STREET  2.257500e+06\n13800        WINCHENDON ROAD  2.350000e+06\n13837           WINGATE ROAD  2.206400e+06\n\n[161 rows x 2 columns]"
                    },
                    "execution_count": 26,
                    "metadata": {},
                    "output_type": "execute_result"
                }
            ],
            "source": "df_affordable"
        },
        {
            "cell_type": "code",
            "execution_count": 34,
            "metadata": {},
            "outputs": [
                {
                    "ename": "KeyError",
                    "evalue": "\"['city_coord'] not found in axis\"",
                    "output_type": "error",
                    "traceback": [
                        "\u001b[0;31m---------------------------------------------------------------------------\u001b[0m",
                        "\u001b[0;31mKeyError\u001b[0m                                  Traceback (most recent call last)",
                        "\u001b[0;32m<ipython-input-34-c59639e6a6ed>\u001b[0m in \u001b[0;36m<module>\u001b[0;34m\u001b[0m\n\u001b[0;32m----> 1\u001b[0;31m \u001b[0mdf\u001b[0m \u001b[0;34m=\u001b[0m \u001b[0mdf_affordable\u001b[0m\u001b[0;34m.\u001b[0m\u001b[0mdrop\u001b[0m\u001b[0;34m(\u001b[0m\u001b[0mcolumns\u001b[0m\u001b[0;34m=\u001b[0m\u001b[0;34m[\u001b[0m\u001b[0;34m'city_coord'\u001b[0m\u001b[0;34m]\u001b[0m\u001b[0;34m)\u001b[0m\u001b[0;34m\u001b[0m\u001b[0;34m\u001b[0m\u001b[0m\n\u001b[0m",
                        "\u001b[0;32m/opt/conda/envs/Python36/lib/python3.6/site-packages/pandas/core/frame.py\u001b[0m in \u001b[0;36mdrop\u001b[0;34m(self, labels, axis, index, columns, level, inplace, errors)\u001b[0m\n\u001b[1;32m   3938\u001b[0m                                            \u001b[0mindex\u001b[0m\u001b[0;34m=\u001b[0m\u001b[0mindex\u001b[0m\u001b[0;34m,\u001b[0m \u001b[0mcolumns\u001b[0m\u001b[0;34m=\u001b[0m\u001b[0mcolumns\u001b[0m\u001b[0;34m,\u001b[0m\u001b[0;34m\u001b[0m\u001b[0;34m\u001b[0m\u001b[0m\n\u001b[1;32m   3939\u001b[0m                                            \u001b[0mlevel\u001b[0m\u001b[0;34m=\u001b[0m\u001b[0mlevel\u001b[0m\u001b[0;34m,\u001b[0m \u001b[0minplace\u001b[0m\u001b[0;34m=\u001b[0m\u001b[0minplace\u001b[0m\u001b[0;34m,\u001b[0m\u001b[0;34m\u001b[0m\u001b[0;34m\u001b[0m\u001b[0m\n\u001b[0;32m-> 3940\u001b[0;31m                                            errors=errors)\n\u001b[0m\u001b[1;32m   3941\u001b[0m \u001b[0;34m\u001b[0m\u001b[0m\n\u001b[1;32m   3942\u001b[0m     @rewrite_axis_style_signature('mapper', [('copy', True),\n",
                        "\u001b[0;32m/opt/conda/envs/Python36/lib/python3.6/site-packages/pandas/core/generic.py\u001b[0m in \u001b[0;36mdrop\u001b[0;34m(self, labels, axis, index, columns, level, inplace, errors)\u001b[0m\n\u001b[1;32m   3778\u001b[0m         \u001b[0;32mfor\u001b[0m \u001b[0maxis\u001b[0m\u001b[0;34m,\u001b[0m \u001b[0mlabels\u001b[0m \u001b[0;32min\u001b[0m \u001b[0maxes\u001b[0m\u001b[0;34m.\u001b[0m\u001b[0mitems\u001b[0m\u001b[0;34m(\u001b[0m\u001b[0;34m)\u001b[0m\u001b[0;34m:\u001b[0m\u001b[0;34m\u001b[0m\u001b[0;34m\u001b[0m\u001b[0m\n\u001b[1;32m   3779\u001b[0m             \u001b[0;32mif\u001b[0m \u001b[0mlabels\u001b[0m \u001b[0;32mis\u001b[0m \u001b[0;32mnot\u001b[0m \u001b[0;32mNone\u001b[0m\u001b[0;34m:\u001b[0m\u001b[0;34m\u001b[0m\u001b[0;34m\u001b[0m\u001b[0m\n\u001b[0;32m-> 3780\u001b[0;31m                 \u001b[0mobj\u001b[0m \u001b[0;34m=\u001b[0m \u001b[0mobj\u001b[0m\u001b[0;34m.\u001b[0m\u001b[0m_drop_axis\u001b[0m\u001b[0;34m(\u001b[0m\u001b[0mlabels\u001b[0m\u001b[0;34m,\u001b[0m \u001b[0maxis\u001b[0m\u001b[0;34m,\u001b[0m \u001b[0mlevel\u001b[0m\u001b[0;34m=\u001b[0m\u001b[0mlevel\u001b[0m\u001b[0;34m,\u001b[0m \u001b[0merrors\u001b[0m\u001b[0;34m=\u001b[0m\u001b[0merrors\u001b[0m\u001b[0;34m)\u001b[0m\u001b[0;34m\u001b[0m\u001b[0;34m\u001b[0m\u001b[0m\n\u001b[0m\u001b[1;32m   3781\u001b[0m \u001b[0;34m\u001b[0m\u001b[0m\n\u001b[1;32m   3782\u001b[0m         \u001b[0;32mif\u001b[0m \u001b[0minplace\u001b[0m\u001b[0;34m:\u001b[0m\u001b[0;34m\u001b[0m\u001b[0;34m\u001b[0m\u001b[0m\n",
                        "\u001b[0;32m/opt/conda/envs/Python36/lib/python3.6/site-packages/pandas/core/generic.py\u001b[0m in \u001b[0;36m_drop_axis\u001b[0;34m(self, labels, axis, level, errors)\u001b[0m\n\u001b[1;32m   3810\u001b[0m                 \u001b[0mnew_axis\u001b[0m \u001b[0;34m=\u001b[0m \u001b[0maxis\u001b[0m\u001b[0;34m.\u001b[0m\u001b[0mdrop\u001b[0m\u001b[0;34m(\u001b[0m\u001b[0mlabels\u001b[0m\u001b[0;34m,\u001b[0m \u001b[0mlevel\u001b[0m\u001b[0;34m=\u001b[0m\u001b[0mlevel\u001b[0m\u001b[0;34m,\u001b[0m \u001b[0merrors\u001b[0m\u001b[0;34m=\u001b[0m\u001b[0merrors\u001b[0m\u001b[0;34m)\u001b[0m\u001b[0;34m\u001b[0m\u001b[0;34m\u001b[0m\u001b[0m\n\u001b[1;32m   3811\u001b[0m             \u001b[0;32melse\u001b[0m\u001b[0;34m:\u001b[0m\u001b[0;34m\u001b[0m\u001b[0;34m\u001b[0m\u001b[0m\n\u001b[0;32m-> 3812\u001b[0;31m                 \u001b[0mnew_axis\u001b[0m \u001b[0;34m=\u001b[0m \u001b[0maxis\u001b[0m\u001b[0;34m.\u001b[0m\u001b[0mdrop\u001b[0m\u001b[0;34m(\u001b[0m\u001b[0mlabels\u001b[0m\u001b[0;34m,\u001b[0m \u001b[0merrors\u001b[0m\u001b[0;34m=\u001b[0m\u001b[0merrors\u001b[0m\u001b[0;34m)\u001b[0m\u001b[0;34m\u001b[0m\u001b[0;34m\u001b[0m\u001b[0m\n\u001b[0m\u001b[1;32m   3813\u001b[0m             \u001b[0mresult\u001b[0m \u001b[0;34m=\u001b[0m \u001b[0mself\u001b[0m\u001b[0;34m.\u001b[0m\u001b[0mreindex\u001b[0m\u001b[0;34m(\u001b[0m\u001b[0;34m**\u001b[0m\u001b[0;34m{\u001b[0m\u001b[0maxis_name\u001b[0m\u001b[0;34m:\u001b[0m \u001b[0mnew_axis\u001b[0m\u001b[0;34m}\u001b[0m\u001b[0;34m)\u001b[0m\u001b[0;34m\u001b[0m\u001b[0;34m\u001b[0m\u001b[0m\n\u001b[1;32m   3814\u001b[0m \u001b[0;34m\u001b[0m\u001b[0m\n",
                        "\u001b[0;32m/opt/conda/envs/Python36/lib/python3.6/site-packages/pandas/core/indexes/base.py\u001b[0m in \u001b[0;36mdrop\u001b[0;34m(self, labels, errors)\u001b[0m\n\u001b[1;32m   4962\u001b[0m             \u001b[0;32mif\u001b[0m \u001b[0merrors\u001b[0m \u001b[0;34m!=\u001b[0m \u001b[0;34m'ignore'\u001b[0m\u001b[0;34m:\u001b[0m\u001b[0;34m\u001b[0m\u001b[0;34m\u001b[0m\u001b[0m\n\u001b[1;32m   4963\u001b[0m                 raise KeyError(\n\u001b[0;32m-> 4964\u001b[0;31m                     '{} not found in axis'.format(labels[mask]))\n\u001b[0m\u001b[1;32m   4965\u001b[0m             \u001b[0mindexer\u001b[0m \u001b[0;34m=\u001b[0m \u001b[0mindexer\u001b[0m\u001b[0;34m[\u001b[0m\u001b[0;34m~\u001b[0m\u001b[0mmask\u001b[0m\u001b[0;34m]\u001b[0m\u001b[0;34m\u001b[0m\u001b[0;34m\u001b[0m\u001b[0m\n\u001b[1;32m   4966\u001b[0m         \u001b[0;32mreturn\u001b[0m \u001b[0mself\u001b[0m\u001b[0;34m.\u001b[0m\u001b[0mdelete\u001b[0m\u001b[0;34m(\u001b[0m\u001b[0mindexer\u001b[0m\u001b[0;34m)\u001b[0m\u001b[0;34m\u001b[0m\u001b[0;34m\u001b[0m\u001b[0m\n",
                        "\u001b[0;31mKeyError\u001b[0m: \"['city_coord'] not found in axis\""
                    ]
                }
            ],
            "source": "df = df_affordable.drop(columns=['city_coord'])"
        },
        {
            "cell_type": "code",
            "execution_count": 35,
            "metadata": {},
            "outputs": [
                {
                    "ename": "NameError",
                    "evalue": "name 'df' is not defined",
                    "output_type": "error",
                    "traceback": [
                        "\u001b[0;31m---------------------------------------------------------------------------\u001b[0m",
                        "\u001b[0;31mNameError\u001b[0m                                 Traceback (most recent call last)",
                        "\u001b[0;32m<ipython-input-35-00cf07b74dcd>\u001b[0m in \u001b[0;36m<module>\u001b[0;34m\u001b[0m\n\u001b[0;32m----> 1\u001b[0;31m \u001b[0mdf\u001b[0m\u001b[0;34m\u001b[0m\u001b[0;34m\u001b[0m\u001b[0m\n\u001b[0m",
                        "\u001b[0;31mNameError\u001b[0m: name 'df' is not defined"
                    ]
                }
            ],
            "source": "df"
        },
        {
            "cell_type": "code",
            "execution_count": 29,
            "metadata": {},
            "outputs": [
                {
                    "ename": "ConfigurationError",
                    "evalue": "Using Nominatim with default or sample `user_agent` \"geopy/2.0.0\" is strongly discouraged, as it violates Nominatim's ToS https://operations.osmfoundation.org/policies/nominatim/ and may possibly cause 403 and 429 HTTP errors. Please specify a custom `user_agent` with `Nominatim(user_agent=\"my-application\")` or by overriding the default `user_agent`: `geopy.geocoders.options.default_user_agent = \"my-application\"`.",
                    "output_type": "error",
                    "traceback": [
                        "\u001b[0;31m---------------------------------------------------------------------------\u001b[0m",
                        "\u001b[0;31mConfigurationError\u001b[0m                        Traceback (most recent call last)",
                        "\u001b[0;32m<ipython-input-29-526e9d96575c>\u001b[0m in \u001b[0;36m<module>\u001b[0;34m\u001b[0m\n\u001b[1;32m      1\u001b[0m \u001b[0maddress\u001b[0m \u001b[0;34m=\u001b[0m \u001b[0;34m'London, UK'\u001b[0m\u001b[0;34m\u001b[0m\u001b[0;34m\u001b[0m\u001b[0m\n\u001b[1;32m      2\u001b[0m \u001b[0;34m\u001b[0m\u001b[0m\n\u001b[0;32m----> 3\u001b[0;31m \u001b[0mgeolocator\u001b[0m \u001b[0;34m=\u001b[0m \u001b[0mNominatim\u001b[0m\u001b[0;34m(\u001b[0m\u001b[0;34m)\u001b[0m\u001b[0;34m\u001b[0m\u001b[0;34m\u001b[0m\u001b[0m\n\u001b[0m\u001b[1;32m      4\u001b[0m \u001b[0mlocation\u001b[0m \u001b[0;34m=\u001b[0m \u001b[0mgeolocator\u001b[0m\u001b[0;34m.\u001b[0m\u001b[0mgeocode\u001b[0m\u001b[0;34m(\u001b[0m\u001b[0maddress\u001b[0m\u001b[0;34m)\u001b[0m\u001b[0;34m\u001b[0m\u001b[0;34m\u001b[0m\u001b[0m\n\u001b[1;32m      5\u001b[0m \u001b[0mlatitude\u001b[0m \u001b[0;34m=\u001b[0m \u001b[0mlocation\u001b[0m\u001b[0;34m.\u001b[0m\u001b[0mlatitude\u001b[0m\u001b[0;34m\u001b[0m\u001b[0;34m\u001b[0m\u001b[0m\n",
                        "\u001b[0;32m/opt/conda/envs/Python36/lib/python3.6/site-packages/geopy/geocoders/nominatim.py\u001b[0m in \u001b[0;36m__init__\u001b[0;34m(self, timeout, proxies, domain, scheme, user_agent, ssl_context, adapter_factory)\u001b[0m\n\u001b[1;32m    112\u001b[0m                 \u001b[0;34m'overriding the default `user_agent`: '\u001b[0m\u001b[0;34m\u001b[0m\u001b[0;34m\u001b[0m\u001b[0m\n\u001b[1;32m    113\u001b[0m                 \u001b[0;34m'`geopy.geocoders.options.default_user_agent = \"my-application\"`.'\u001b[0m\u001b[0;34m\u001b[0m\u001b[0;34m\u001b[0m\u001b[0m\n\u001b[0;32m--> 114\u001b[0;31m                 \u001b[0;34m%\u001b[0m \u001b[0mself\u001b[0m\u001b[0;34m.\u001b[0m\u001b[0mheaders\u001b[0m\u001b[0;34m[\u001b[0m\u001b[0;34m'User-Agent'\u001b[0m\u001b[0;34m]\u001b[0m\u001b[0;34m\u001b[0m\u001b[0;34m\u001b[0m\u001b[0m\n\u001b[0m\u001b[1;32m    115\u001b[0m             )\n\u001b[1;32m    116\u001b[0m \u001b[0;34m\u001b[0m\u001b[0m\n",
                        "\u001b[0;31mConfigurationError\u001b[0m: Using Nominatim with default or sample `user_agent` \"geopy/2.0.0\" is strongly discouraged, as it violates Nominatim's ToS https://operations.osmfoundation.org/policies/nominatim/ and may possibly cause 403 and 429 HTTP errors. Please specify a custom `user_agent` with `Nominatim(user_agent=\"my-application\")` or by overriding the default `user_agent`: `geopy.geocoders.options.default_user_agent = \"my-application\"`."
                    ]
                }
            ],
            "source": "address = 'London, UK'\n\ngeolocator = Nominatim()\nlocation = geolocator.geocode(address)\nlatitude = location.latitude\nlongitude = location.longitude\nprint('The geograpical coordinate of London City are {}, {}.'.format(latitude, longitude))"
        },
        {
            "cell_type": "code",
            "execution_count": 30,
            "metadata": {},
            "outputs": [
                {
                    "ename": "NameError",
                    "evalue": "name 'latitude' is not defined",
                    "output_type": "error",
                    "traceback": [
                        "\u001b[0;31m---------------------------------------------------------------------------\u001b[0m",
                        "\u001b[0;31mNameError\u001b[0m                                 Traceback (most recent call last)",
                        "\u001b[0;32m<ipython-input-30-af45c37281d7>\u001b[0m in \u001b[0;36m<module>\u001b[0;34m\u001b[0m\n\u001b[1;32m      1\u001b[0m \u001b[0;31m# create map of London using latitude and longitude values\u001b[0m\u001b[0;34m\u001b[0m\u001b[0;34m\u001b[0m\u001b[0;34m\u001b[0m\u001b[0m\n\u001b[0;32m----> 2\u001b[0;31m \u001b[0mmap_london\u001b[0m \u001b[0;34m=\u001b[0m \u001b[0mfolium\u001b[0m\u001b[0;34m.\u001b[0m\u001b[0mMap\u001b[0m\u001b[0;34m(\u001b[0m\u001b[0mlocation\u001b[0m\u001b[0;34m=\u001b[0m\u001b[0;34m[\u001b[0m\u001b[0mlatitude\u001b[0m\u001b[0;34m,\u001b[0m \u001b[0mlongitude\u001b[0m\u001b[0;34m]\u001b[0m\u001b[0;34m,\u001b[0m \u001b[0mzoom_start\u001b[0m\u001b[0;34m=\u001b[0m\u001b[0;36m11\u001b[0m\u001b[0;34m)\u001b[0m\u001b[0;34m\u001b[0m\u001b[0;34m\u001b[0m\u001b[0m\n\u001b[0m\u001b[1;32m      3\u001b[0m \u001b[0;34m\u001b[0m\u001b[0m\n\u001b[1;32m      4\u001b[0m \u001b[0;31m# add markers to map\u001b[0m\u001b[0;34m\u001b[0m\u001b[0;34m\u001b[0m\u001b[0;34m\u001b[0m\u001b[0m\n\u001b[1;32m      5\u001b[0m \u001b[0;32mfor\u001b[0m \u001b[0mlat\u001b[0m\u001b[0;34m,\u001b[0m \u001b[0mlng\u001b[0m\u001b[0;34m,\u001b[0m \u001b[0mprice\u001b[0m\u001b[0;34m,\u001b[0m \u001b[0mstreet\u001b[0m \u001b[0;32min\u001b[0m \u001b[0mzip\u001b[0m\u001b[0;34m(\u001b[0m\u001b[0mdf\u001b[0m\u001b[0;34m[\u001b[0m\u001b[0;34m'Latitude'\u001b[0m\u001b[0;34m]\u001b[0m\u001b[0;34m,\u001b[0m \u001b[0mdf\u001b[0m\u001b[0;34m[\u001b[0m\u001b[0;34m'Longitude'\u001b[0m\u001b[0;34m]\u001b[0m\u001b[0;34m,\u001b[0m \u001b[0mdf\u001b[0m\u001b[0;34m[\u001b[0m\u001b[0;34m'Avg_Price'\u001b[0m\u001b[0;34m]\u001b[0m\u001b[0;34m,\u001b[0m \u001b[0mdf\u001b[0m\u001b[0;34m[\u001b[0m\u001b[0;34m'Street'\u001b[0m\u001b[0;34m]\u001b[0m\u001b[0;34m)\u001b[0m\u001b[0;34m:\u001b[0m\u001b[0;34m\u001b[0m\u001b[0;34m\u001b[0m\u001b[0m\n",
                        "\u001b[0;31mNameError\u001b[0m: name 'latitude' is not defined"
                    ]
                }
            ],
            "source": "# create map of London using latitude and longitude values\nmap_london = folium.Map(location=[latitude, longitude], zoom_start=11)\n\n# add markers to map\nfor lat, lng, price, street in zip(df['Latitude'], df['Longitude'], df['Avg_Price'], df['Street']):\n    label = '{}, {}'.format(street, price)\n    label = folium.Popup(label, parse_html=True)\n    folium.CircleMarker(\n        [lat, lng],\n        radius=5,\n        popup=label,\n        color='blue',\n        fill=True,\n        fill_color='#3186cc',\n        fill_opacity=0.7,\n        parse_html=False).add_to(map_london)  \n    \nmap_london"
        },
        {
            "cell_type": "code",
            "execution_count": 31,
            "metadata": {},
            "outputs": [
                {
                    "name": "stdout",
                    "output_type": "stream",
                    "text": "Your credentails:\nCLIENT_ID: KI3TR0QO4JOKMFELOMF3WSOOI3HFNBF5YLW354MYWBKDHEX3\nCLIENT_SECRET:QF4ZBLJRBV4BQX52DVWUPEHJ14A2UJABPCZARZQZYTKIISUD\n"
                }
            ],
            "source": "#Define Foursquare Credentials and Version\n\nCLIENT_ID = 'KI3TR0QO4JOKMFELOMF3WSOOI3HFNBF5YLW354MYWBKDHEX3' # Foursquare ID\nCLIENT_SECRET = 'QF4ZBLJRBV4BQX52DVWUPEHJ14A2UJABPCZARZQZYTKIISUD' # Foursquare Secret\nVERSION = '20181206' # Foursquare API version\n\nprint('Your credentails:')\nprint('CLIENT_ID: ' + CLIENT_ID)\nprint('CLIENT_SECRET:' + CLIENT_SECRET)"
        },
        {
            "cell_type": "code",
            "execution_count": 32,
            "metadata": {},
            "outputs": [],
            "source": "\ndef getNearbyVenues(names, latitudes, longitudes, radius=500, LIMIT=100):\n    \n    venues_list=[]\n    for name, lat, lng in zip(names, latitudes, longitudes):\n        print(name)\n            \n        # create the API request URL\n        url = 'https://api.foursquare.com/v2/venues/explore?&client_id={}&client_secret={}&v={}&ll={},{}&radius={}&limit={}'.format(\n            CLIENT_ID, \n            CLIENT_SECRET, \n            VERSION, \n            lat, \n            lng, \n            radius, \n            LIMIT)\n            \n        # make the GET request\n        results = requests.get(url).json()[\"response\"]['groups'][0]['items']\n        \n        # return only relevant information for each nearby venue\n        venues_list.append([(\n            name, \n            lat, \n            lng, \n            v['venue']['name'], \n            v['venue']['location']['lat'], \n            v['venue']['location']['lng'],  \n            v['venue']['categories'][0]['name']) for v in results])\n\n    nearby_venues = pd.DataFrame([item for venue_list in venues_list for item in venue_list])\n    nearby_venues.columns = ['Street', \n                  'Street Latitude', \n                  'Street Longitude', \n                  'Venue', \n                  'Venue Latitude', \n                  'Venue Longitude', \n                  'Venue Category']\n    \n    return(nearby_venues)"
        },
        {
            "cell_type": "code",
            "execution_count": 33,
            "metadata": {},
            "outputs": [
                {
                    "ename": "NameError",
                    "evalue": "name 'df' is not defined",
                    "output_type": "error",
                    "traceback": [
                        "\u001b[0;31m---------------------------------------------------------------------------\u001b[0m",
                        "\u001b[0;31mNameError\u001b[0m                                 Traceback (most recent call last)",
                        "\u001b[0;32m<ipython-input-33-45fffd548269>\u001b[0m in \u001b[0;36m<module>\u001b[0;34m\u001b[0m\n\u001b[1;32m      1\u001b[0m \u001b[0;31m# Run the above function on each location and create a new dataframe called location_venues and display it.\u001b[0m\u001b[0;34m\u001b[0m\u001b[0;34m\u001b[0m\u001b[0;34m\u001b[0m\u001b[0m\n\u001b[0;32m----> 2\u001b[0;31m location_venues = getNearbyVenues(names=df['Street'],\n\u001b[0m\u001b[1;32m      3\u001b[0m                                    \u001b[0mlatitudes\u001b[0m\u001b[0;34m=\u001b[0m\u001b[0mdf\u001b[0m\u001b[0;34m[\u001b[0m\u001b[0;34m'Latitude'\u001b[0m\u001b[0;34m]\u001b[0m\u001b[0;34m,\u001b[0m\u001b[0;34m\u001b[0m\u001b[0;34m\u001b[0m\u001b[0m\n\u001b[1;32m      4\u001b[0m                                    \u001b[0mlongitudes\u001b[0m\u001b[0;34m=\u001b[0m\u001b[0mdf\u001b[0m\u001b[0;34m[\u001b[0m\u001b[0;34m'Longitude'\u001b[0m\u001b[0;34m]\u001b[0m\u001b[0;34m\u001b[0m\u001b[0;34m\u001b[0m\u001b[0m\n\u001b[1;32m      5\u001b[0m                                   )\n",
                        "\u001b[0;31mNameError\u001b[0m: name 'df' is not defined"
                    ]
                }
            ],
            "source": "# Run the above function on each location and create a new dataframe called location_venues and display it.\nlocation_venues = getNearbyVenues(names=df['Street'],\n                                   latitudes=df['Latitude'],\n                                   longitudes=df['Longitude']\n                                  )"
        },
        {
            "cell_type": "code",
            "execution_count": 36,
            "metadata": {},
            "outputs": [
                {
                    "ename": "NameError",
                    "evalue": "name 'location_venues' is not defined",
                    "output_type": "error",
                    "traceback": [
                        "\u001b[0;31m---------------------------------------------------------------------------\u001b[0m",
                        "\u001b[0;31mNameError\u001b[0m                                 Traceback (most recent call last)",
                        "\u001b[0;32m<ipython-input-36-e3532ab91f9c>\u001b[0m in \u001b[0;36m<module>\u001b[0;34m\u001b[0m\n\u001b[1;32m      1\u001b[0m \u001b[0;34m\u001b[0m\u001b[0m\n\u001b[0;32m----> 2\u001b[0;31m \u001b[0mlocation_venues\u001b[0m\u001b[0;34m\u001b[0m\u001b[0;34m\u001b[0m\u001b[0m\n\u001b[0m",
                        "\u001b[0;31mNameError\u001b[0m: name 'location_venues' is not defined"
                    ]
                }
            ],
            "source": "\nlocation_venues"
        },
        {
            "cell_type": "code",
            "execution_count": 40,
            "metadata": {},
            "outputs": [
                {
                    "ename": "NameError",
                    "evalue": "name 'location_venues' is not defined",
                    "output_type": "error",
                    "traceback": [
                        "\u001b[0;31m---------------------------------------------------------------------------\u001b[0m",
                        "\u001b[0;31mNameError\u001b[0m                                 Traceback (most recent call last)",
                        "\u001b[0;32m<ipython-input-40-bb435a16e272>\u001b[0m in \u001b[0;36m<module>\u001b[0;34m\u001b[0m\n\u001b[1;32m      1\u001b[0m \u001b[0;34m\u001b[0m\u001b[0m\n\u001b[0;32m----> 2\u001b[0;31m \u001b[0mlocation_venues\u001b[0m\u001b[0;34m.\u001b[0m\u001b[0mgroupby\u001b[0m\u001b[0;34m(\u001b[0m\u001b[0;34m'Street'\u001b[0m\u001b[0;34m)\u001b[0m\u001b[0;34m.\u001b[0m\u001b[0mcount\u001b[0m\u001b[0;34m(\u001b[0m\u001b[0;34m)\u001b[0m\u001b[0;34m\u001b[0m\u001b[0;34m\u001b[0m\u001b[0m\n\u001b[0m",
                        "\u001b[0;31mNameError\u001b[0m: name 'location_venues' is not defined"
                    ]
                }
            ],
            "source": "\nlocation_venues.groupby('Street').count()"
        },
        {
            "cell_type": "code",
            "execution_count": 41,
            "metadata": {},
            "outputs": [
                {
                    "ename": "NameError",
                    "evalue": "name 'location_venues' is not defined",
                    "output_type": "error",
                    "traceback": [
                        "\u001b[0;31m---------------------------------------------------------------------------\u001b[0m",
                        "\u001b[0;31mNameError\u001b[0m                                 Traceback (most recent call last)",
                        "\u001b[0;32m<ipython-input-41-482e44b8488c>\u001b[0m in \u001b[0;36m<module>\u001b[0;34m\u001b[0m\n\u001b[1;32m      1\u001b[0m \u001b[0;31m# get the List of Unique Categories\u001b[0m\u001b[0;34m\u001b[0m\u001b[0;34m\u001b[0m\u001b[0;34m\u001b[0m\u001b[0m\n\u001b[0;32m----> 2\u001b[0;31m \u001b[0mprint\u001b[0m\u001b[0;34m(\u001b[0m\u001b[0;34m'There are {} uniques categories.'\u001b[0m\u001b[0;34m.\u001b[0m\u001b[0mformat\u001b[0m\u001b[0;34m(\u001b[0m\u001b[0mlen\u001b[0m\u001b[0;34m(\u001b[0m\u001b[0mlocation_venues\u001b[0m\u001b[0;34m[\u001b[0m\u001b[0;34m'Venue Category'\u001b[0m\u001b[0;34m]\u001b[0m\u001b[0;34m.\u001b[0m\u001b[0munique\u001b[0m\u001b[0;34m(\u001b[0m\u001b[0;34m)\u001b[0m\u001b[0;34m)\u001b[0m\u001b[0;34m)\u001b[0m\u001b[0;34m)\u001b[0m\u001b[0;34m\u001b[0m\u001b[0;34m\u001b[0m\u001b[0m\n\u001b[0m",
                        "\u001b[0;31mNameError\u001b[0m: name 'location_venues' is not defined"
                    ]
                }
            ],
            "source": "# get the List of Unique Categories\nprint('There are {} uniques categories.'.format(len(location_venues['Venue Category'].unique())))"
        },
        {
            "cell_type": "code",
            "execution_count": 42,
            "metadata": {},
            "outputs": [
                {
                    "ename": "NameError",
                    "evalue": "name 'location_venues' is not defined",
                    "output_type": "error",
                    "traceback": [
                        "\u001b[0;31m---------------------------------------------------------------------------\u001b[0m",
                        "\u001b[0;31mNameError\u001b[0m                                 Traceback (most recent call last)",
                        "\u001b[0;32m<ipython-input-42-06ea1cf3537b>\u001b[0m in \u001b[0;36m<module>\u001b[0;34m\u001b[0m\n\u001b[1;32m      1\u001b[0m \u001b[0;34m\u001b[0m\u001b[0m\n\u001b[0;32m----> 2\u001b[0;31m \u001b[0mlocation_venues\u001b[0m\u001b[0;34m.\u001b[0m\u001b[0mshape\u001b[0m\u001b[0;34m\u001b[0m\u001b[0;34m\u001b[0m\u001b[0m\n\u001b[0m",
                        "\u001b[0;31mNameError\u001b[0m: name 'location_venues' is not defined"
                    ]
                }
            ],
            "source": "\nlocation_venues.shape"
        },
        {
            "cell_type": "code",
            "execution_count": 43,
            "metadata": {},
            "outputs": [
                {
                    "ename": "NameError",
                    "evalue": "name 'location_venues' is not defined",
                    "output_type": "error",
                    "traceback": [
                        "\u001b[0;31m---------------------------------------------------------------------------\u001b[0m",
                        "\u001b[0;31mNameError\u001b[0m                                 Traceback (most recent call last)",
                        "\u001b[0;32m<ipython-input-43-71dea2cdc2ec>\u001b[0m in \u001b[0;36m<module>\u001b[0;34m\u001b[0m\n\u001b[1;32m      1\u001b[0m \u001b[0;31m# one hot encoding\u001b[0m\u001b[0;34m\u001b[0m\u001b[0;34m\u001b[0m\u001b[0;34m\u001b[0m\u001b[0m\n\u001b[0;32m----> 2\u001b[0;31m \u001b[0mvenues_onehot\u001b[0m \u001b[0;34m=\u001b[0m \u001b[0mpd\u001b[0m\u001b[0;34m.\u001b[0m\u001b[0mget_dummies\u001b[0m\u001b[0;34m(\u001b[0m\u001b[0mlocation_venues\u001b[0m\u001b[0;34m[\u001b[0m\u001b[0;34m[\u001b[0m\u001b[0;34m'Venue Category'\u001b[0m\u001b[0;34m]\u001b[0m\u001b[0;34m]\u001b[0m\u001b[0;34m,\u001b[0m \u001b[0mprefix\u001b[0m\u001b[0;34m=\u001b[0m\u001b[0;34m\"\"\u001b[0m\u001b[0;34m,\u001b[0m \u001b[0mprefix_sep\u001b[0m\u001b[0;34m=\u001b[0m\u001b[0;34m\"\"\u001b[0m\u001b[0;34m)\u001b[0m\u001b[0;34m\u001b[0m\u001b[0;34m\u001b[0m\u001b[0m\n\u001b[0m\u001b[1;32m      3\u001b[0m \u001b[0;34m\u001b[0m\u001b[0m\n\u001b[1;32m      4\u001b[0m \u001b[0;31m# add street column back to dataframe\u001b[0m\u001b[0;34m\u001b[0m\u001b[0;34m\u001b[0m\u001b[0;34m\u001b[0m\u001b[0m\n\u001b[1;32m      5\u001b[0m \u001b[0mvenues_onehot\u001b[0m\u001b[0;34m[\u001b[0m\u001b[0;34m'Street'\u001b[0m\u001b[0;34m]\u001b[0m \u001b[0;34m=\u001b[0m \u001b[0mlocation_venues\u001b[0m\u001b[0;34m[\u001b[0m\u001b[0;34m'Street'\u001b[0m\u001b[0;34m]\u001b[0m\u001b[0;34m\u001b[0m\u001b[0;34m\u001b[0m\u001b[0m\n",
                        "\u001b[0;31mNameError\u001b[0m: name 'location_venues' is not defined"
                    ]
                }
            ],
            "source": "# one hot encoding\nvenues_onehot = pd.get_dummies(location_venues[['Venue Category']], prefix=\"\", prefix_sep=\"\")\n\n# add street column back to dataframe\nvenues_onehot['Street'] = location_venues['Street'] \n\n# move street column to the first column\nfixed_columns = [venues_onehot.columns[-1]] + list(venues_onehot.columns[:-1])\n\n#fixed_columns\nvenues_onehot = venues_onehot[fixed_columns]\n\nvenues_onehot.head()"
        },
        {
            "cell_type": "code",
            "execution_count": 44,
            "metadata": {},
            "outputs": [
                {
                    "ename": "NameError",
                    "evalue": "name 'venues_onehot' is not defined",
                    "output_type": "error",
                    "traceback": [
                        "\u001b[0;31m---------------------------------------------------------------------------\u001b[0m",
                        "\u001b[0;31mNameError\u001b[0m                                 Traceback (most recent call last)",
                        "\u001b[0;32m<ipython-input-44-7e69d681f977>\u001b[0m in \u001b[0;36m<module>\u001b[0;34m\u001b[0m\n\u001b[1;32m      1\u001b[0m \u001b[0;34m\u001b[0m\u001b[0m\n\u001b[0;32m----> 2\u001b[0;31m \u001b[0mlondon_grouped\u001b[0m \u001b[0;34m=\u001b[0m \u001b[0mvenues_onehot\u001b[0m\u001b[0;34m.\u001b[0m\u001b[0mgroupby\u001b[0m\u001b[0;34m(\u001b[0m\u001b[0;34m'Street'\u001b[0m\u001b[0;34m)\u001b[0m\u001b[0;34m.\u001b[0m\u001b[0mmean\u001b[0m\u001b[0;34m(\u001b[0m\u001b[0;34m)\u001b[0m\u001b[0;34m.\u001b[0m\u001b[0mreset_index\u001b[0m\u001b[0;34m(\u001b[0m\u001b[0;34m)\u001b[0m\u001b[0;34m\u001b[0m\u001b[0;34m\u001b[0m\u001b[0m\n\u001b[0m\u001b[1;32m      3\u001b[0m \u001b[0mlondon_grouped\u001b[0m\u001b[0;34m\u001b[0m\u001b[0;34m\u001b[0m\u001b[0m\n",
                        "\u001b[0;31mNameError\u001b[0m: name 'venues_onehot' is not defined"
                    ]
                }
            ],
            "source": "\nlondon_grouped = venues_onehot.groupby('Street').mean().reset_index()\nlondon_grouped"
        },
        {
            "cell_type": "code",
            "execution_count": 45,
            "metadata": {},
            "outputs": [
                {
                    "ename": "NameError",
                    "evalue": "name 'london_grouped' is not defined",
                    "output_type": "error",
                    "traceback": [
                        "\u001b[0;31m---------------------------------------------------------------------------\u001b[0m",
                        "\u001b[0;31mNameError\u001b[0m                                 Traceback (most recent call last)",
                        "\u001b[0;32m<ipython-input-45-969a251e7904>\u001b[0m in \u001b[0;36m<module>\u001b[0;34m\u001b[0m\n\u001b[0;32m----> 1\u001b[0;31m \u001b[0mlondon_grouped\u001b[0m\u001b[0;34m.\u001b[0m\u001b[0mshape\u001b[0m\u001b[0;34m\u001b[0m\u001b[0;34m\u001b[0m\u001b[0m\n\u001b[0m",
                        "\u001b[0;31mNameError\u001b[0m: name 'london_grouped' is not defined"
                    ]
                }
            ],
            "source": "london_grouped.shape"
        },
        {
            "cell_type": "code",
            "execution_count": 46,
            "metadata": {},
            "outputs": [
                {
                    "ename": "NameError",
                    "evalue": "name 'london_grouped' is not defined",
                    "output_type": "error",
                    "traceback": [
                        "\u001b[0;31m---------------------------------------------------------------------------\u001b[0m",
                        "\u001b[0;31mNameError\u001b[0m                                 Traceback (most recent call last)",
                        "\u001b[0;32m<ipython-input-46-e53c3ed53d9c>\u001b[0m in \u001b[0;36m<module>\u001b[0;34m\u001b[0m\n\u001b[1;32m      3\u001b[0m \u001b[0mnum_top_venues\u001b[0m \u001b[0;34m=\u001b[0m \u001b[0;36m5\u001b[0m\u001b[0;34m\u001b[0m\u001b[0;34m\u001b[0m\u001b[0m\n\u001b[1;32m      4\u001b[0m \u001b[0;34m\u001b[0m\u001b[0m\n\u001b[0;32m----> 5\u001b[0;31m \u001b[0;32mfor\u001b[0m \u001b[0mhood\u001b[0m \u001b[0;32min\u001b[0m \u001b[0mlondon_grouped\u001b[0m\u001b[0;34m[\u001b[0m\u001b[0;34m'Street'\u001b[0m\u001b[0;34m]\u001b[0m\u001b[0;34m:\u001b[0m\u001b[0;34m\u001b[0m\u001b[0;34m\u001b[0m\u001b[0m\n\u001b[0m\u001b[1;32m      6\u001b[0m     \u001b[0mprint\u001b[0m\u001b[0;34m(\u001b[0m\u001b[0;34m\"----\"\u001b[0m\u001b[0;34m+\u001b[0m\u001b[0mhood\u001b[0m\u001b[0;34m+\u001b[0m\u001b[0;34m\"----\"\u001b[0m\u001b[0;34m)\u001b[0m\u001b[0;34m\u001b[0m\u001b[0;34m\u001b[0m\u001b[0m\n\u001b[1;32m      7\u001b[0m     \u001b[0mtemp\u001b[0m \u001b[0;34m=\u001b[0m \u001b[0mlondon_grouped\u001b[0m\u001b[0;34m[\u001b[0m\u001b[0mlondon_grouped\u001b[0m\u001b[0;34m[\u001b[0m\u001b[0;34m'Street'\u001b[0m\u001b[0;34m]\u001b[0m \u001b[0;34m==\u001b[0m \u001b[0mhood\u001b[0m\u001b[0;34m]\u001b[0m\u001b[0;34m.\u001b[0m\u001b[0mT\u001b[0m\u001b[0;34m.\u001b[0m\u001b[0mreset_index\u001b[0m\u001b[0;34m(\u001b[0m\u001b[0;34m)\u001b[0m\u001b[0;34m\u001b[0m\u001b[0;34m\u001b[0m\u001b[0m\n",
                        "\u001b[0;31mNameError\u001b[0m: name 'london_grouped' is not defined"
                    ]
                }
            ],
            "source": "# What are the top 5 venues/facilities nearby profitable real estate investments?#\n\nnum_top_venues = 5\n\nfor hood in london_grouped['Street']:\n    print(\"----\"+hood+\"----\")\n    temp = london_grouped[london_grouped['Street'] == hood].T.reset_index()\n    temp.columns = ['venue','freq']\n    temp = temp.iloc[1:]\n    temp['freq'] = temp['freq'].astype(float)\n    temp = temp.round({'freq': 2})\n    print(temp.sort_values('freq', ascending=False).reset_index(drop=True).head(num_top_venues))\n    print('\\n')"
        },
        {
            "cell_type": "code",
            "execution_count": 47,
            "metadata": {},
            "outputs": [],
            "source": "# Define a function to return the most common venues/facilities nearby real estate investments#\n\ndef return_most_common_venues(row, num_top_venues):\n    row_categories = row.iloc[1:]\n    row_categories_sorted = row_categories.sort_values(ascending=False)\n    \n    return row_categories_sorted.index.values[0:num_top_venues]"
        },
        {
            "cell_type": "code",
            "execution_count": 48,
            "metadata": {},
            "outputs": [],
            "source": "num_top_venues = 10\n\nindicators = ['st', 'nd', 'rd']\n\n# create columns according to number of top venues\ncolumns = ['Street']\nfor ind in np.arange(num_top_venues):\n    try:\n        columns.append('{}{} Most Common Venue'.format(ind+1, indicators[ind]))\n    except:\n        columns.append('{}th Most Common Venue'.format(ind+1))"
        },
        {
            "cell_type": "code",
            "execution_count": 49,
            "metadata": {},
            "outputs": [
                {
                    "ename": "NameError",
                    "evalue": "name 'london_grouped' is not defined",
                    "output_type": "error",
                    "traceback": [
                        "\u001b[0;31m---------------------------------------------------------------------------\u001b[0m",
                        "\u001b[0;31mNameError\u001b[0m                                 Traceback (most recent call last)",
                        "\u001b[0;32m<ipython-input-49-2bc98d43b5e8>\u001b[0m in \u001b[0;36m<module>\u001b[0;34m\u001b[0m\n\u001b[1;32m      1\u001b[0m \u001b[0;31m# create a new dataframe\u001b[0m\u001b[0;34m\u001b[0m\u001b[0;34m\u001b[0m\u001b[0;34m\u001b[0m\u001b[0m\n\u001b[1;32m      2\u001b[0m \u001b[0mvenues_sorted\u001b[0m \u001b[0;34m=\u001b[0m \u001b[0mpd\u001b[0m\u001b[0;34m.\u001b[0m\u001b[0mDataFrame\u001b[0m\u001b[0;34m(\u001b[0m\u001b[0mcolumns\u001b[0m\u001b[0;34m=\u001b[0m\u001b[0mcolumns\u001b[0m\u001b[0;34m)\u001b[0m\u001b[0;34m\u001b[0m\u001b[0;34m\u001b[0m\u001b[0m\n\u001b[0;32m----> 3\u001b[0;31m \u001b[0mvenues_sorted\u001b[0m\u001b[0;34m[\u001b[0m\u001b[0;34m'Street'\u001b[0m\u001b[0;34m]\u001b[0m \u001b[0;34m=\u001b[0m \u001b[0mlondon_grouped\u001b[0m\u001b[0;34m[\u001b[0m\u001b[0;34m'Street'\u001b[0m\u001b[0;34m]\u001b[0m\u001b[0;34m\u001b[0m\u001b[0;34m\u001b[0m\u001b[0m\n\u001b[0m\u001b[1;32m      4\u001b[0m \u001b[0;34m\u001b[0m\u001b[0m\n\u001b[1;32m      5\u001b[0m \u001b[0;32mfor\u001b[0m \u001b[0mind\u001b[0m \u001b[0;32min\u001b[0m \u001b[0mnp\u001b[0m\u001b[0;34m.\u001b[0m\u001b[0marange\u001b[0m\u001b[0;34m(\u001b[0m\u001b[0mlondon_grouped\u001b[0m\u001b[0;34m.\u001b[0m\u001b[0mshape\u001b[0m\u001b[0;34m[\u001b[0m\u001b[0;36m0\u001b[0m\u001b[0;34m]\u001b[0m\u001b[0;34m)\u001b[0m\u001b[0;34m:\u001b[0m\u001b[0;34m\u001b[0m\u001b[0;34m\u001b[0m\u001b[0m\n",
                        "\u001b[0;31mNameError\u001b[0m: name 'london_grouped' is not defined"
                    ]
                }
            ],
            "source": "# create a new dataframe\nvenues_sorted = pd.DataFrame(columns=columns)\nvenues_sorted['Street'] = london_grouped['Street']\n\nfor ind in np.arange(london_grouped.shape[0]):\n    venues_sorted.iloc[ind, 1:] = return_most_common_venues(london_grouped.iloc[ind, :], num_top_venues)"
        },
        {
            "cell_type": "code",
            "execution_count": 50,
            "metadata": {},
            "outputs": [
                {
                    "data": {
                        "text/html": "<div>\n<style scoped>\n    .dataframe tbody tr th:only-of-type {\n        vertical-align: middle;\n    }\n\n    .dataframe tbody tr th {\n        vertical-align: top;\n    }\n\n    .dataframe thead th {\n        text-align: right;\n    }\n</style>\n<table border=\"1\" class=\"dataframe\">\n  <thead>\n    <tr style=\"text-align: right;\">\n      <th></th>\n      <th>Street</th>\n      <th>1st Most Common Venue</th>\n      <th>2nd Most Common Venue</th>\n      <th>3rd Most Common Venue</th>\n      <th>4th Most Common Venue</th>\n      <th>5th Most Common Venue</th>\n      <th>6th Most Common Venue</th>\n      <th>7th Most Common Venue</th>\n      <th>8th Most Common Venue</th>\n      <th>9th Most Common Venue</th>\n      <th>10th Most Common Venue</th>\n    </tr>\n  </thead>\n  <tbody>\n  </tbody>\n</table>\n</div>",
                        "text/plain": "Empty DataFrame\nColumns: [Street, 1st Most Common Venue, 2nd Most Common Venue, 3rd Most Common Venue, 4th Most Common Venue, 5th Most Common Venue, 6th Most Common Venue, 7th Most Common Venue, 8th Most Common Venue, 9th Most Common Venue, 10th Most Common Venue]\nIndex: []"
                    },
                    "execution_count": 50,
                    "metadata": {},
                    "output_type": "execute_result"
                }
            ],
            "source": "venues_sorted.head()"
        },
        {
            "cell_type": "code",
            "execution_count": 51,
            "metadata": {},
            "outputs": [
                {
                    "data": {
                        "text/plain": "(0, 11)"
                    },
                    "execution_count": 51,
                    "metadata": {},
                    "output_type": "execute_result"
                }
            ],
            "source": "\nvenues_sorted.shape"
        },
        {
            "cell_type": "code",
            "execution_count": 52,
            "metadata": {},
            "outputs": [
                {
                    "ename": "NameError",
                    "evalue": "name 'london_grouped' is not defined",
                    "output_type": "error",
                    "traceback": [
                        "\u001b[0;31m---------------------------------------------------------------------------\u001b[0m",
                        "\u001b[0;31mNameError\u001b[0m                                 Traceback (most recent call last)",
                        "\u001b[0;32m<ipython-input-52-969a251e7904>\u001b[0m in \u001b[0;36m<module>\u001b[0;34m\u001b[0m\n\u001b[0;32m----> 1\u001b[0;31m \u001b[0mlondon_grouped\u001b[0m\u001b[0;34m.\u001b[0m\u001b[0mshape\u001b[0m\u001b[0;34m\u001b[0m\u001b[0;34m\u001b[0m\u001b[0m\n\u001b[0m",
                        "\u001b[0;31mNameError\u001b[0m: name 'london_grouped' is not defined"
                    ]
                }
            ],
            "source": "london_grouped.shape"
        },
        {
            "cell_type": "code",
            "execution_count": 53,
            "metadata": {},
            "outputs": [
                {
                    "ename": "NameError",
                    "evalue": "name 'df' is not defined",
                    "output_type": "error",
                    "traceback": [
                        "\u001b[0;31m---------------------------------------------------------------------------\u001b[0m",
                        "\u001b[0;31mNameError\u001b[0m                                 Traceback (most recent call last)",
                        "\u001b[0;32m<ipython-input-53-88fd559aac3c>\u001b[0m in \u001b[0;36m<module>\u001b[0;34m\u001b[0m\n\u001b[0;32m----> 1\u001b[0;31m \u001b[0mlondon_grouped\u001b[0m\u001b[0;34m=\u001b[0m\u001b[0mdf\u001b[0m\u001b[0;34m\u001b[0m\u001b[0;34m\u001b[0m\u001b[0m\n\u001b[0m",
                        "\u001b[0;31mNameError\u001b[0m: name 'df' is not defined"
                    ]
                }
            ],
            "source": "london_grouped=df"
        },
        {
            "cell_type": "code",
            "execution_count": 54,
            "metadata": {
                "scrolled": true
            },
            "outputs": [
                {
                    "ename": "NameError",
                    "evalue": "name 'london_grouped' is not defined",
                    "output_type": "error",
                    "traceback": [
                        "\u001b[0;31m---------------------------------------------------------------------------\u001b[0m",
                        "\u001b[0;31mNameError\u001b[0m                                 Traceback (most recent call last)",
                        "\u001b[0;32m<ipython-input-54-898c7fe5da93>\u001b[0m in \u001b[0;36m<module>\u001b[0;34m\u001b[0m\n\u001b[1;32m      4\u001b[0m \u001b[0mkclusters\u001b[0m \u001b[0;34m=\u001b[0m \u001b[0;36m5\u001b[0m\u001b[0;34m\u001b[0m\u001b[0;34m\u001b[0m\u001b[0m\n\u001b[1;32m      5\u001b[0m \u001b[0;34m\u001b[0m\u001b[0m\n\u001b[0;32m----> 6\u001b[0;31m \u001b[0mlondon_grouped_clustering\u001b[0m \u001b[0;34m=\u001b[0m \u001b[0mlondon_grouped\u001b[0m\u001b[0;34m.\u001b[0m\u001b[0mdrop\u001b[0m\u001b[0;34m(\u001b[0m\u001b[0;34m'Street'\u001b[0m\u001b[0;34m,\u001b[0m \u001b[0;36m1\u001b[0m\u001b[0;34m)\u001b[0m\u001b[0;34m\u001b[0m\u001b[0;34m\u001b[0m\u001b[0m\n\u001b[0m\u001b[1;32m      7\u001b[0m \u001b[0;34m\u001b[0m\u001b[0m\n\u001b[1;32m      8\u001b[0m \u001b[0;31m# run k-means clustering\u001b[0m\u001b[0;34m\u001b[0m\u001b[0;34m\u001b[0m\u001b[0;34m\u001b[0m\u001b[0m\n",
                        "\u001b[0;31mNameError\u001b[0m: name 'london_grouped' is not defined"
                    ]
                }
            ],
            "source": "#Distribute in 5 Clusters\n\n# set number of clusters\nkclusters = 5\n\nlondon_grouped_clustering = london_grouped.drop('Street', 1)\n\n# run k-means clustering\nkmeans = KMeans(n_clusters=kclusters, random_state=0).fit(london_grouped_clustering)\n\n# check cluster labels generated for each row in the dataframe\nkmeans.labels_[0:50]"
        },
        {
            "cell_type": "code",
            "execution_count": 55,
            "metadata": {},
            "outputs": [
                {
                    "ename": "NameError",
                    "evalue": "name 'df' is not defined",
                    "output_type": "error",
                    "traceback": [
                        "\u001b[0;31m---------------------------------------------------------------------------\u001b[0m",
                        "\u001b[0;31mNameError\u001b[0m                                 Traceback (most recent call last)",
                        "\u001b[0;32m<ipython-input-55-2945866f775e>\u001b[0m in \u001b[0;36m<module>\u001b[0;34m\u001b[0m\n\u001b[1;32m      1\u001b[0m \u001b[0;31m#Dataframe to include Clusters\u001b[0m\u001b[0;34m\u001b[0m\u001b[0;34m\u001b[0m\u001b[0;34m\u001b[0m\u001b[0m\n\u001b[1;32m      2\u001b[0m \u001b[0;34m\u001b[0m\u001b[0m\n\u001b[0;32m----> 3\u001b[0;31m \u001b[0mlondon_grouped_clustering\u001b[0m\u001b[0;34m=\u001b[0m\u001b[0mdf\u001b[0m\u001b[0;34m\u001b[0m\u001b[0;34m\u001b[0m\u001b[0m\n\u001b[0m\u001b[1;32m      4\u001b[0m \u001b[0mlondon_grouped_clustering\u001b[0m\u001b[0;34m.\u001b[0m\u001b[0mhead\u001b[0m\u001b[0;34m(\u001b[0m\u001b[0;34m)\u001b[0m\u001b[0;34m\u001b[0m\u001b[0;34m\u001b[0m\u001b[0m\n",
                        "\u001b[0;31mNameError\u001b[0m: name 'df' is not defined"
                    ]
                }
            ],
            "source": "#Dataframe to include Clusters\n\nlondon_grouped_clustering=df\nlondon_grouped_clustering.head()"
        },
        {
            "cell_type": "code",
            "execution_count": 56,
            "metadata": {},
            "outputs": [
                {
                    "ename": "NameError",
                    "evalue": "name 'london_grouped_clustering' is not defined",
                    "output_type": "error",
                    "traceback": [
                        "\u001b[0;31m---------------------------------------------------------------------------\u001b[0m",
                        "\u001b[0;31mNameError\u001b[0m                                 Traceback (most recent call last)",
                        "\u001b[0;32m<ipython-input-56-ee0c0022c386>\u001b[0m in \u001b[0;36m<module>\u001b[0;34m\u001b[0m\n\u001b[0;32m----> 1\u001b[0;31m \u001b[0mlondon_grouped_clustering\u001b[0m\u001b[0;34m.\u001b[0m\u001b[0mshape\u001b[0m\u001b[0;34m\u001b[0m\u001b[0;34m\u001b[0m\u001b[0m\n\u001b[0m",
                        "\u001b[0;31mNameError\u001b[0m: name 'london_grouped_clustering' is not defined"
                    ]
                }
            ],
            "source": "london_grouped_clustering.shape"
        },
        {
            "cell_type": "code",
            "execution_count": 57,
            "metadata": {},
            "outputs": [
                {
                    "ename": "NameError",
                    "evalue": "name 'df' is not defined",
                    "output_type": "error",
                    "traceback": [
                        "\u001b[0;31m---------------------------------------------------------------------------\u001b[0m",
                        "\u001b[0;31mNameError\u001b[0m                                 Traceback (most recent call last)",
                        "\u001b[0;32m<ipython-input-57-2cff99cc0137>\u001b[0m in \u001b[0;36m<module>\u001b[0;34m\u001b[0m\n\u001b[1;32m      1\u001b[0m \u001b[0;34m\u001b[0m\u001b[0m\n\u001b[0;32m----> 2\u001b[0;31m \u001b[0mdf\u001b[0m\u001b[0;34m.\u001b[0m\u001b[0mshape\u001b[0m\u001b[0;34m\u001b[0m\u001b[0;34m\u001b[0m\u001b[0m\n\u001b[0m",
                        "\u001b[0;31mNameError\u001b[0m: name 'df' is not defined"
                    ]
                }
            ],
            "source": "\ndf.shape"
        },
        {
            "cell_type": "code",
            "execution_count": 58,
            "metadata": {},
            "outputs": [
                {
                    "ename": "NameError",
                    "evalue": "name 'london_grouped_clustering' is not defined",
                    "output_type": "error",
                    "traceback": [
                        "\u001b[0;31m---------------------------------------------------------------------------\u001b[0m",
                        "\u001b[0;31mNameError\u001b[0m                                 Traceback (most recent call last)",
                        "\u001b[0;32m<ipython-input-58-42f489a21332>\u001b[0m in \u001b[0;36m<module>\u001b[0;34m\u001b[0m\n\u001b[1;32m      1\u001b[0m \u001b[0;34m\u001b[0m\u001b[0m\n\u001b[0;32m----> 2\u001b[0;31m \u001b[0mlondon_grouped_clustering\u001b[0m\u001b[0;34m.\u001b[0m\u001b[0mdtypes\u001b[0m\u001b[0;34m\u001b[0m\u001b[0;34m\u001b[0m\u001b[0m\n\u001b[0m",
                        "\u001b[0;31mNameError\u001b[0m: name 'london_grouped_clustering' is not defined"
                    ]
                }
            ],
            "source": "\nlondon_grouped_clustering.dtypes"
        },
        {
            "cell_type": "code",
            "execution_count": 59,
            "metadata": {},
            "outputs": [
                {
                    "ename": "NameError",
                    "evalue": "name 'df' is not defined",
                    "output_type": "error",
                    "traceback": [
                        "\u001b[0;31m---------------------------------------------------------------------------\u001b[0m",
                        "\u001b[0;31mNameError\u001b[0m                                 Traceback (most recent call last)",
                        "\u001b[0;32m<ipython-input-59-5cc0934cc03c>\u001b[0m in \u001b[0;36m<module>\u001b[0;34m\u001b[0m\n\u001b[0;32m----> 1\u001b[0;31m \u001b[0mdf\u001b[0m\u001b[0;34m.\u001b[0m\u001b[0mdtypes\u001b[0m\u001b[0;34m\u001b[0m\u001b[0;34m\u001b[0m\u001b[0m\n\u001b[0m",
                        "\u001b[0;31mNameError\u001b[0m: name 'df' is not defined"
                    ]
                }
            ],
            "source": "df.dtypes"
        },
        {
            "cell_type": "code",
            "execution_count": 60,
            "metadata": {},
            "outputs": [
                {
                    "ename": "NameError",
                    "evalue": "name 'kmeans' is not defined",
                    "output_type": "error",
                    "traceback": [
                        "\u001b[0;31m---------------------------------------------------------------------------\u001b[0m",
                        "\u001b[0;31mNameError\u001b[0m                                 Traceback (most recent call last)",
                        "\u001b[0;32m<ipython-input-60-9e32ce1291a3>\u001b[0m in \u001b[0;36m<module>\u001b[0;34m\u001b[0m\n\u001b[1;32m      1\u001b[0m \u001b[0;34m\u001b[0m\u001b[0m\n\u001b[1;32m      2\u001b[0m \u001b[0;31m# add clustering labels\u001b[0m\u001b[0;34m\u001b[0m\u001b[0;34m\u001b[0m\u001b[0;34m\u001b[0m\u001b[0m\n\u001b[0;32m----> 3\u001b[0;31m \u001b[0mlondon_grouped_clustering\u001b[0m\u001b[0;34m[\u001b[0m\u001b[0;34m'Cluster Labels'\u001b[0m\u001b[0;34m]\u001b[0m \u001b[0;34m=\u001b[0m \u001b[0mkmeans\u001b[0m\u001b[0;34m.\u001b[0m\u001b[0mlabels_\u001b[0m\u001b[0;34m\u001b[0m\u001b[0;34m\u001b[0m\u001b[0m\n\u001b[0m\u001b[1;32m      4\u001b[0m \u001b[0;34m\u001b[0m\u001b[0m\n\u001b[1;32m      5\u001b[0m \u001b[0;31m# merge london_grouped with london_data to add latitude/longitude for each neighborhood\u001b[0m\u001b[0;34m\u001b[0m\u001b[0;34m\u001b[0m\u001b[0;34m\u001b[0m\u001b[0m\n",
                        "\u001b[0;31mNameError\u001b[0m: name 'kmeans' is not defined"
                    ]
                }
            ],
            "source": "\n# add clustering labels\nlondon_grouped_clustering['Cluster Labels'] = kmeans.labels_\n\n# merge london_grouped with london_data to add latitude/longitude for each neighborhood\nlondon_grouped_clustering = london_grouped_clustering.join(venues_sorted.set_index('Street'), on='Street')\n\nlondon_grouped_clustering.head(30) # check the last columns!"
        },
        {
            "cell_type": "code",
            "execution_count": 61,
            "metadata": {},
            "outputs": [
                {
                    "ename": "NameError",
                    "evalue": "name 'latitude' is not defined",
                    "output_type": "error",
                    "traceback": [
                        "\u001b[0;31m---------------------------------------------------------------------------\u001b[0m",
                        "\u001b[0;31mNameError\u001b[0m                                 Traceback (most recent call last)",
                        "\u001b[0;32m<ipython-input-61-bc3753a9db15>\u001b[0m in \u001b[0;36m<module>\u001b[0;34m\u001b[0m\n\u001b[1;32m      1\u001b[0m \u001b[0;31m# Create Map\u001b[0m\u001b[0;34m\u001b[0m\u001b[0;34m\u001b[0m\u001b[0;34m\u001b[0m\u001b[0m\n\u001b[1;32m      2\u001b[0m \u001b[0;34m\u001b[0m\u001b[0m\n\u001b[0;32m----> 3\u001b[0;31m \u001b[0mmap_clusters\u001b[0m \u001b[0;34m=\u001b[0m \u001b[0mfolium\u001b[0m\u001b[0;34m.\u001b[0m\u001b[0mMap\u001b[0m\u001b[0;34m(\u001b[0m\u001b[0mlocation\u001b[0m\u001b[0;34m=\u001b[0m\u001b[0;34m[\u001b[0m\u001b[0mlatitude\u001b[0m\u001b[0;34m,\u001b[0m \u001b[0mlongitude\u001b[0m\u001b[0;34m]\u001b[0m\u001b[0;34m,\u001b[0m \u001b[0mzoom_start\u001b[0m\u001b[0;34m=\u001b[0m\u001b[0;36m11\u001b[0m\u001b[0;34m)\u001b[0m\u001b[0;34m\u001b[0m\u001b[0;34m\u001b[0m\u001b[0m\n\u001b[0m\u001b[1;32m      4\u001b[0m \u001b[0;34m\u001b[0m\u001b[0m\n\u001b[1;32m      5\u001b[0m \u001b[0;31m# set color scheme for the clusters\u001b[0m\u001b[0;34m\u001b[0m\u001b[0;34m\u001b[0m\u001b[0;34m\u001b[0m\u001b[0m\n",
                        "\u001b[0;31mNameError\u001b[0m: name 'latitude' is not defined"
                    ]
                }
            ],
            "source": "# Create Map\n\nmap_clusters = folium.Map(location=[latitude, longitude], zoom_start=11)\n\n# set color scheme for the clusters\nx = np.arange(kclusters)\nys = [i+x+(i*x)**2 for i in range(kclusters)]\ncolors_array = cm.rainbow(np.linspace(0, 1, len(ys)))\nrainbow = [colors.rgb2hex(i) for i in colors_array]\n\n# add markers to the map\nmarkers_colors = []\nfor lat, lon, poi, cluster in zip(london_grouped_clustering['Latitude'], london_grouped_clustering['Longitude'], london_grouped_clustering['Street'], london_grouped_clustering['Cluster Labels']):\n    label = folium.Popup(str(poi) + ' Cluster ' + str(cluster), parse_html=True)\n    folium.CircleMarker(\n        [lat, lon],\n        radius=5,\n        popup=label,\n        color=rainbow[cluster-1],\n        fill=True,\n        fill_color=rainbow[cluster-1],\n        fill_opacity=0.7).add_to(map_clusters)\n       \nmap_clusters"
        },
        {
            "cell_type": "code",
            "execution_count": 62,
            "metadata": {},
            "outputs": [
                {
                    "ename": "NameError",
                    "evalue": "name 'london_grouped_clustering' is not defined",
                    "output_type": "error",
                    "traceback": [
                        "\u001b[0;31m---------------------------------------------------------------------------\u001b[0m",
                        "\u001b[0;31mNameError\u001b[0m                                 Traceback (most recent call last)",
                        "\u001b[0;32m<ipython-input-62-395dc50a2222>\u001b[0m in \u001b[0;36m<module>\u001b[0;34m\u001b[0m\n\u001b[0;32m----> 1\u001b[0;31m \u001b[0mlondon_grouped_clustering\u001b[0m\u001b[0;34m.\u001b[0m\u001b[0mloc\u001b[0m\u001b[0;34m[\u001b[0m\u001b[0mlondon_grouped_clustering\u001b[0m\u001b[0;34m[\u001b[0m\u001b[0;34m'Cluster Labels'\u001b[0m\u001b[0;34m]\u001b[0m \u001b[0;34m==\u001b[0m \u001b[0;36m0\u001b[0m\u001b[0;34m,\u001b[0m \u001b[0mlondon_grouped_clustering\u001b[0m\u001b[0;34m.\u001b[0m\u001b[0mcolumns\u001b[0m\u001b[0;34m[\u001b[0m\u001b[0;34m[\u001b[0m\u001b[0;36m1\u001b[0m\u001b[0;34m]\u001b[0m \u001b[0;34m+\u001b[0m \u001b[0mlist\u001b[0m\u001b[0;34m(\u001b[0m\u001b[0mrange\u001b[0m\u001b[0;34m(\u001b[0m\u001b[0;36m5\u001b[0m\u001b[0;34m,\u001b[0m \u001b[0mlondon_grouped_clustering\u001b[0m\u001b[0;34m.\u001b[0m\u001b[0mshape\u001b[0m\u001b[0;34m[\u001b[0m\u001b[0;36m1\u001b[0m\u001b[0;34m]\u001b[0m\u001b[0;34m)\u001b[0m\u001b[0;34m)\u001b[0m\u001b[0;34m]\u001b[0m\u001b[0;34m]\u001b[0m\u001b[0;34m.\u001b[0m\u001b[0mhead\u001b[0m\u001b[0;34m(\u001b[0m\u001b[0;34m)\u001b[0m\u001b[0;34m\u001b[0m\u001b[0;34m\u001b[0m\u001b[0m\n\u001b[0m",
                        "\u001b[0;31mNameError\u001b[0m: name 'london_grouped_clustering' is not defined"
                    ]
                }
            ],
            "source": "london_grouped_clustering.loc[london_grouped_clustering['Cluster Labels'] == 0, london_grouped_clustering.columns[[1] + list(range(5, london_grouped_clustering.shape[1]))]].head()"
        },
        {
            "cell_type": "code",
            "execution_count": 63,
            "metadata": {},
            "outputs": [
                {
                    "ename": "NameError",
                    "evalue": "name 'london_grouped_clustering' is not defined",
                    "output_type": "error",
                    "traceback": [
                        "\u001b[0;31m---------------------------------------------------------------------------\u001b[0m",
                        "\u001b[0;31mNameError\u001b[0m                                 Traceback (most recent call last)",
                        "\u001b[0;32m<ipython-input-63-ed11ab0cec0e>\u001b[0m in \u001b[0;36m<module>\u001b[0;34m\u001b[0m\n\u001b[0;32m----> 1\u001b[0;31m \u001b[0mlondon_grouped_clustering\u001b[0m\u001b[0;34m.\u001b[0m\u001b[0mloc\u001b[0m\u001b[0;34m[\u001b[0m\u001b[0mlondon_grouped_clustering\u001b[0m\u001b[0;34m[\u001b[0m\u001b[0;34m'Cluster Labels'\u001b[0m\u001b[0;34m]\u001b[0m \u001b[0;34m==\u001b[0m \u001b[0;36m1\u001b[0m\u001b[0;34m,\u001b[0m \u001b[0mlondon_grouped_clustering\u001b[0m\u001b[0;34m.\u001b[0m\u001b[0mcolumns\u001b[0m\u001b[0;34m[\u001b[0m\u001b[0;34m[\u001b[0m\u001b[0;36m1\u001b[0m\u001b[0;34m]\u001b[0m \u001b[0;34m+\u001b[0m \u001b[0mlist\u001b[0m\u001b[0;34m(\u001b[0m\u001b[0mrange\u001b[0m\u001b[0;34m(\u001b[0m\u001b[0;36m5\u001b[0m\u001b[0;34m,\u001b[0m \u001b[0mlondon_grouped_clustering\u001b[0m\u001b[0;34m.\u001b[0m\u001b[0mshape\u001b[0m\u001b[0;34m[\u001b[0m\u001b[0;36m1\u001b[0m\u001b[0;34m]\u001b[0m\u001b[0;34m)\u001b[0m\u001b[0;34m)\u001b[0m\u001b[0;34m]\u001b[0m\u001b[0;34m]\u001b[0m\u001b[0;34m.\u001b[0m\u001b[0mhead\u001b[0m\u001b[0;34m(\u001b[0m\u001b[0;34m)\u001b[0m\u001b[0;34m\u001b[0m\u001b[0;34m\u001b[0m\u001b[0m\n\u001b[0m",
                        "\u001b[0;31mNameError\u001b[0m: name 'london_grouped_clustering' is not defined"
                    ]
                }
            ],
            "source": "london_grouped_clustering.loc[london_grouped_clustering['Cluster Labels'] == 1, london_grouped_clustering.columns[[1] + list(range(5, london_grouped_clustering.shape[1]))]].head()"
        },
        {
            "cell_type": "code",
            "execution_count": 64,
            "metadata": {},
            "outputs": [
                {
                    "ename": "NameError",
                    "evalue": "name 'london_grouped_clustering' is not defined",
                    "output_type": "error",
                    "traceback": [
                        "\u001b[0;31m---------------------------------------------------------------------------\u001b[0m",
                        "\u001b[0;31mNameError\u001b[0m                                 Traceback (most recent call last)",
                        "\u001b[0;32m<ipython-input-64-4ec3cf737952>\u001b[0m in \u001b[0;36m<module>\u001b[0;34m\u001b[0m\n\u001b[0;32m----> 1\u001b[0;31m \u001b[0mlondon_grouped_clustering\u001b[0m\u001b[0;34m.\u001b[0m\u001b[0mloc\u001b[0m\u001b[0;34m[\u001b[0m\u001b[0mlondon_grouped_clustering\u001b[0m\u001b[0;34m[\u001b[0m\u001b[0;34m'Cluster Labels'\u001b[0m\u001b[0;34m]\u001b[0m \u001b[0;34m==\u001b[0m \u001b[0;36m2\u001b[0m\u001b[0;34m,\u001b[0m \u001b[0mlondon_grouped_clustering\u001b[0m\u001b[0;34m.\u001b[0m\u001b[0mcolumns\u001b[0m\u001b[0;34m[\u001b[0m\u001b[0;34m[\u001b[0m\u001b[0;36m1\u001b[0m\u001b[0;34m]\u001b[0m \u001b[0;34m+\u001b[0m \u001b[0mlist\u001b[0m\u001b[0;34m(\u001b[0m\u001b[0mrange\u001b[0m\u001b[0;34m(\u001b[0m\u001b[0;36m5\u001b[0m\u001b[0;34m,\u001b[0m \u001b[0mlondon_grouped_clustering\u001b[0m\u001b[0;34m.\u001b[0m\u001b[0mshape\u001b[0m\u001b[0;34m[\u001b[0m\u001b[0;36m1\u001b[0m\u001b[0;34m]\u001b[0m\u001b[0;34m)\u001b[0m\u001b[0;34m)\u001b[0m\u001b[0;34m]\u001b[0m\u001b[0;34m]\u001b[0m\u001b[0;34m.\u001b[0m\u001b[0mhead\u001b[0m\u001b[0;34m(\u001b[0m\u001b[0;34m)\u001b[0m\u001b[0;34m\u001b[0m\u001b[0;34m\u001b[0m\u001b[0m\n\u001b[0m",
                        "\u001b[0;31mNameError\u001b[0m: name 'london_grouped_clustering' is not defined"
                    ]
                }
            ],
            "source": "london_grouped_clustering.loc[london_grouped_clustering['Cluster Labels'] == 2, london_grouped_clustering.columns[[1] + list(range(5, london_grouped_clustering.shape[1]))]].head()"
        },
        {
            "cell_type": "code",
            "execution_count": 65,
            "metadata": {},
            "outputs": [
                {
                    "ename": "NameError",
                    "evalue": "name 'london_grouped_clustering' is not defined",
                    "output_type": "error",
                    "traceback": [
                        "\u001b[0;31m---------------------------------------------------------------------------\u001b[0m",
                        "\u001b[0;31mNameError\u001b[0m                                 Traceback (most recent call last)",
                        "\u001b[0;32m<ipython-input-65-a0633f6d4f90>\u001b[0m in \u001b[0;36m<module>\u001b[0;34m\u001b[0m\n\u001b[1;32m      1\u001b[0m \u001b[0;34m\u001b[0m\u001b[0m\n\u001b[0;32m----> 2\u001b[0;31m \u001b[0mlondon_grouped_clustering\u001b[0m\u001b[0;34m.\u001b[0m\u001b[0mloc\u001b[0m\u001b[0;34m[\u001b[0m\u001b[0mlondon_grouped_clustering\u001b[0m\u001b[0;34m[\u001b[0m\u001b[0;34m'Cluster Labels'\u001b[0m\u001b[0;34m]\u001b[0m \u001b[0;34m==\u001b[0m \u001b[0;36m3\u001b[0m\u001b[0;34m,\u001b[0m \u001b[0mlondon_grouped_clustering\u001b[0m\u001b[0;34m.\u001b[0m\u001b[0mcolumns\u001b[0m\u001b[0;34m[\u001b[0m\u001b[0;34m[\u001b[0m\u001b[0;36m1\u001b[0m\u001b[0;34m]\u001b[0m \u001b[0;34m+\u001b[0m \u001b[0mlist\u001b[0m\u001b[0;34m(\u001b[0m\u001b[0mrange\u001b[0m\u001b[0;34m(\u001b[0m\u001b[0;36m5\u001b[0m\u001b[0;34m,\u001b[0m \u001b[0mlondon_grouped_clustering\u001b[0m\u001b[0;34m.\u001b[0m\u001b[0mshape\u001b[0m\u001b[0;34m[\u001b[0m\u001b[0;36m1\u001b[0m\u001b[0;34m]\u001b[0m\u001b[0;34m)\u001b[0m\u001b[0;34m)\u001b[0m\u001b[0;34m]\u001b[0m\u001b[0;34m]\u001b[0m\u001b[0;34m.\u001b[0m\u001b[0mhead\u001b[0m\u001b[0;34m(\u001b[0m\u001b[0;34m)\u001b[0m\u001b[0;34m\u001b[0m\u001b[0;34m\u001b[0m\u001b[0m\n\u001b[0m",
                        "\u001b[0;31mNameError\u001b[0m: name 'london_grouped_clustering' is not defined"
                    ]
                }
            ],
            "source": "\nlondon_grouped_clustering.loc[london_grouped_clustering['Cluster Labels'] == 3, london_grouped_clustering.columns[[1] + list(range(5, london_grouped_clustering.shape[1]))]].head()"
        },
        {
            "cell_type": "code",
            "execution_count": 66,
            "metadata": {},
            "outputs": [
                {
                    "ename": "NameError",
                    "evalue": "name 'london_grouped_clustering' is not defined",
                    "output_type": "error",
                    "traceback": [
                        "\u001b[0;31m---------------------------------------------------------------------------\u001b[0m",
                        "\u001b[0;31mNameError\u001b[0m                                 Traceback (most recent call last)",
                        "\u001b[0;32m<ipython-input-66-850744d1c54c>\u001b[0m in \u001b[0;36m<module>\u001b[0;34m\u001b[0m\n\u001b[0;32m----> 1\u001b[0;31m \u001b[0mlondon_grouped_clustering\u001b[0m\u001b[0;34m.\u001b[0m\u001b[0mloc\u001b[0m\u001b[0;34m[\u001b[0m\u001b[0mlondon_grouped_clustering\u001b[0m\u001b[0;34m[\u001b[0m\u001b[0;34m'Cluster Labels'\u001b[0m\u001b[0;34m]\u001b[0m \u001b[0;34m==\u001b[0m \u001b[0;36m4\u001b[0m\u001b[0;34m,\u001b[0m \u001b[0mlondon_grouped_clustering\u001b[0m\u001b[0;34m.\u001b[0m\u001b[0mcolumns\u001b[0m\u001b[0;34m[\u001b[0m\u001b[0;34m[\u001b[0m\u001b[0;36m1\u001b[0m\u001b[0;34m]\u001b[0m \u001b[0;34m+\u001b[0m \u001b[0mlist\u001b[0m\u001b[0;34m(\u001b[0m\u001b[0mrange\u001b[0m\u001b[0;34m(\u001b[0m\u001b[0;36m5\u001b[0m\u001b[0;34m,\u001b[0m \u001b[0mlondon_grouped_clustering\u001b[0m\u001b[0;34m.\u001b[0m\u001b[0mshape\u001b[0m\u001b[0;34m[\u001b[0m\u001b[0;36m1\u001b[0m\u001b[0;34m]\u001b[0m\u001b[0;34m)\u001b[0m\u001b[0;34m)\u001b[0m\u001b[0;34m]\u001b[0m\u001b[0;34m]\u001b[0m\u001b[0;34m.\u001b[0m\u001b[0mhead\u001b[0m\u001b[0;34m(\u001b[0m\u001b[0;34m)\u001b[0m\u001b[0;34m\u001b[0m\u001b[0;34m\u001b[0m\u001b[0m\n\u001b[0m",
                        "\u001b[0;31mNameError\u001b[0m: name 'london_grouped_clustering' is not defined"
                    ]
                }
            ],
            "source": "london_grouped_clustering.loc[london_grouped_clustering['Cluster Labels'] == 4, london_grouped_clustering.columns[[1] + list(range(5, london_grouped_clustering.shape[1]))]].head()"
        },
        {
            "cell_type": "code",
            "execution_count": null,
            "metadata": {},
            "outputs": [],
            "source": ""
        }
    ],
    "metadata": {
        "kernelspec": {
            "display_name": "Python 3.6",
            "language": "python",
            "name": "python3"
        },
        "language_info": {
            "codemirror_mode": {
                "name": "ipython",
                "version": 3
            },
            "file_extension": ".py",
            "mimetype": "text/x-python",
            "name": "python",
            "nbconvert_exporter": "python",
            "pygments_lexer": "ipython3",
            "version": "3.6.9"
        }
    },
    "nbformat": 4,
    "nbformat_minor": 1
}